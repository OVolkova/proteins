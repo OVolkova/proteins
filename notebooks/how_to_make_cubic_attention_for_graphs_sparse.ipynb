{
  "nbformat": 4,
  "nbformat_minor": 0,
  "metadata": {
    "colab": {
      "provenance": []
    },
    "kernelspec": {
      "name": "python3",
      "display_name": "Python 3"
    },
    "language_info": {
      "name": "python"
    }
  },
  "cells": [
    {
      "cell_type": "code",
      "execution_count": null,
      "metadata": {
        "id": "KcjqrpomgOsL"
      },
      "outputs": [],
      "source": [
        "import torch"
      ]
    },
    {
      "cell_type": "markdown",
      "source": [
        "# Sample random data for experiments"
      ],
      "metadata": {
        "id": "O3IT4LOBib6b"
      }
    },
    {
      "cell_type": "code",
      "source": [
        "n_dim=4\n",
        "e_dim=4\n",
        "eh_heads = 2\n",
        "nh_heads = 3\n",
        "n_nodes = 5\n",
        "n_edges_sample = 15"
      ],
      "metadata": {
        "id": "LY3BdUfBi3o2"
      },
      "execution_count": null,
      "outputs": []
    },
    {
      "cell_type": "code",
      "source": [
        "nodes = torch.randn(n_nodes, n_dim)\n",
        "\n",
        "edges = torch.randint(low=0, high=n_nodes, size=(2, n_edges_sample))\n",
        "\n",
        "order = torch.sort(edges[1]).indices\n",
        "edges=edges[:, order]\n",
        "order = torch.sort(edges[0]).indices\n",
        "edges=edges[:, order]\n",
        "edges = torch.unique(edges, dim=1)\n",
        "edges = edges[:, edges[0, :] != edges[1, :]]\n",
        "\n",
        "n_edges = edges.shape[1]\n",
        "\n",
        "edge_features = torch.randn(n_edges, e_dim)"
      ],
      "metadata": {
        "id": "Uol6ywjbgbqW"
      },
      "execution_count": null,
      "outputs": []
    },
    {
      "cell_type": "code",
      "source": [
        "edges"
      ],
      "metadata": {
        "colab": {
          "base_uri": "https://localhost:8080/"
        },
        "id": "nfoISGNEh9Z_",
        "outputId": "9e0b003f-5340-40f4-94dd-79cbad07bb4e"
      },
      "execution_count": null,
      "outputs": [
        {
          "output_type": "execute_result",
          "data": {
            "text/plain": [
              "tensor([[1, 1, 2, 2, 3, 3, 3, 4],\n",
              "        [2, 4, 0, 3, 1, 2, 4, 0]])"
            ]
          },
          "metadata": {},
          "execution_count": 36
        }
      ]
    },
    {
      "cell_type": "code",
      "source": [
        "edge_features"
      ],
      "metadata": {
        "colab": {
          "base_uri": "https://localhost:8080/"
        },
        "id": "xkSuzE4_hJIR",
        "outputId": "bc375a60-5c25-47dd-baa9-f9069716ee2e"
      },
      "execution_count": null,
      "outputs": [
        {
          "output_type": "execute_result",
          "data": {
            "text/plain": [
              "tensor([[ 0.2686,  0.1457, -0.6484, -2.2825],\n",
              "        [-0.0046,  0.9504, -0.1812,  0.8982],\n",
              "        [ 0.8177, -0.0413, -0.0633, -0.9602],\n",
              "        [-0.4971,  0.3030,  0.9113, -0.4091],\n",
              "        [ 1.3522, -0.4655, -0.8157,  1.1900],\n",
              "        [ 2.4739,  0.1505,  1.6291, -0.0673],\n",
              "        [ 0.9679,  3.1103,  0.7519,  2.5047],\n",
              "        [ 0.6992,  1.4276, -0.1395,  1.1929]])"
            ]
          },
          "metadata": {},
          "execution_count": 37
        }
      ]
    },
    {
      "cell_type": "code",
      "source": [
        "nodes"
      ],
      "metadata": {
        "colab": {
          "base_uri": "https://localhost:8080/"
        },
        "id": "cpYVbM3bhHdH",
        "outputId": "e5246303-068d-4892-b24c-9d1a3391c92e"
      },
      "execution_count": null,
      "outputs": [
        {
          "output_type": "execute_result",
          "data": {
            "text/plain": [
              "tensor([[-0.7369,  0.0880, -0.0748, -0.0388],\n",
              "        [ 0.6947, -0.7285,  1.3022,  0.7977],\n",
              "        [ 0.9511, -0.3073, -0.3575,  0.8520],\n",
              "        [-0.1284,  0.8181,  0.4489,  0.2868],\n",
              "        [-0.7065,  1.3118, -0.0299,  1.5650]])"
            ]
          },
          "metadata": {},
          "execution_count": 38
        }
      ]
    },
    {
      "cell_type": "code",
      "source": [
        "mask = torch.zeros((5, 5))\n",
        "mask[edges[0], edges[1]] = 1\n",
        "mask"
      ],
      "metadata": {
        "colab": {
          "base_uri": "https://localhost:8080/"
        },
        "id": "WxX8r0hhlMav",
        "outputId": "4721be5e-384e-4182-ed0d-f26b8cf9cabf"
      },
      "execution_count": null,
      "outputs": [
        {
          "output_type": "execute_result",
          "data": {
            "text/plain": [
              "tensor([[0., 0., 0., 0., 0.],\n",
              "        [0., 0., 1., 0., 1.],\n",
              "        [1., 0., 0., 1., 0.],\n",
              "        [0., 1., 1., 0., 1.],\n",
              "        [1., 0., 0., 0., 0.]])"
            ]
          },
          "metadata": {},
          "execution_count": 39
        }
      ]
    },
    {
      "cell_type": "markdown",
      "source": [
        "# Experiments"
      ],
      "metadata": {
        "id": "bYdJQJdLig-u"
      }
    },
    {
      "cell_type": "markdown",
      "source": [
        "## define layers"
      ],
      "metadata": {
        "id": "113o2nM3rfs_"
      }
    },
    {
      "cell_type": "code",
      "source": [
        "import torch.nn as nn\n",
        "\n",
        "# n_dim=4\n",
        "# e_dim=3\n",
        "# eh_heads = 2\n",
        "# nh_heads = 3"
      ],
      "metadata": {
        "id": "GfWA7atTiykV"
      },
      "execution_count": null,
      "outputs": []
    },
    {
      "cell_type": "code",
      "source": [
        "W_nv = nn.Linear(n_dim, n_dim * nh_heads)\n",
        "W_nq = nn.Linear(n_dim, n_dim * nh_heads)\n",
        "W_nk = nn.Linear(n_dim, n_dim * nh_heads)"
      ],
      "metadata": {
        "id": "4q9VFNdRjdol"
      },
      "execution_count": null,
      "outputs": []
    },
    {
      "cell_type": "code",
      "source": [
        "W_ev = nn.Linear(nh_heads, e_dim * eh_heads)\n",
        "W_eq = nn.Linear(e_dim, e_dim * eh_heads)\n",
        "W_ek = nn.Linear(nh_heads, e_dim * eh_heads)"
      ],
      "metadata": {
        "id": "b33p_-l-is8T"
      },
      "execution_count": null,
      "outputs": []
    },
    {
      "cell_type": "code",
      "source": [
        "W_nr = nn.Linear(n_dim * nh_heads, n_dim)\n",
        "W_er = nn.Linear(e_dim * eh_heads, nh_heads)"
      ],
      "metadata": {
        "id": "7GxfhI1x1UhV"
      },
      "execution_count": null,
      "outputs": []
    },
    {
      "cell_type": "markdown",
      "source": [
        "## nodes ->"
      ],
      "metadata": {
        "id": "XB0wX1nL1PZb"
      }
    },
    {
      "cell_type": "code",
      "source": [
        "nv = W_nv(nodes)\n",
        "nq = W_nq(nodes)\n",
        "nk = W_nk(nodes)"
      ],
      "metadata": {
        "id": "Sq2JwYT3ik77"
      },
      "execution_count": null,
      "outputs": []
    },
    {
      "cell_type": "code",
      "source": [
        "nv.shape"
      ],
      "metadata": {
        "colab": {
          "base_uri": "https://localhost:8080/"
        },
        "id": "ixr_5HQEj256",
        "outputId": "aafe3ef1-b6da-4787-fec0-66901d178b81"
      },
      "execution_count": null,
      "outputs": [
        {
          "output_type": "execute_result",
          "data": {
            "text/plain": [
              "torch.Size([5, 12])"
            ]
          },
          "metadata": {},
          "execution_count": 45
        }
      ]
    },
    {
      "cell_type": "code",
      "source": [
        "nv"
      ],
      "metadata": {
        "colab": {
          "base_uri": "https://localhost:8080/"
        },
        "id": "KyCfcZyTmXBO",
        "outputId": "0bb303bf-1044-4109-c8dc-c138fe8cc0d0"
      },
      "execution_count": null,
      "outputs": [
        {
          "output_type": "execute_result",
          "data": {
            "text/plain": [
              "tensor([[ 0.7721,  0.3507, -0.5177, -0.5645, -0.7706,  0.2676,  0.0755, -0.5668,\n",
              "          0.0247, -0.3495, -0.1441,  0.3607],\n",
              "        [ 0.1298, -0.6281,  0.8674,  0.4509,  0.8572, -0.0534, -0.8120,  0.3037,\n",
              "          0.1307, -0.0501,  0.2981, -0.2879],\n",
              "        [ 0.5411, -0.4341,  0.2171,  0.2226,  0.3863, -0.1235, -0.0896, -0.1024,\n",
              "         -0.3692, -0.4643,  0.7433,  0.1519],\n",
              "        [ 0.1134,  0.2308,  0.1086,  0.0849, -0.6353,  0.3501, -0.1980,  0.0881,\n",
              "          0.1711, -0.1332, -0.3892, -0.2093],\n",
              "        [ 0.7340,  0.5271,  0.1615,  0.4457, -0.8241,  0.8604,  0.3114, -0.0363,\n",
              "          0.4225, -0.9980, -0.7338, -0.2779]], grad_fn=<AddmmBackward0>)"
            ]
          },
          "metadata": {},
          "execution_count": 46
        }
      ]
    },
    {
      "cell_type": "code",
      "source": [
        "nv = nv.view(-1, nh_heads, n_dim).transpose(0, 1)\n",
        "nq = nq.view(-1, nh_heads, n_dim).transpose(0, 1)\n",
        "nk = nk.view(-1, nh_heads, n_dim).transpose(0, 1)"
      ],
      "metadata": {
        "id": "vxmPinhkkCIN"
      },
      "execution_count": null,
      "outputs": []
    },
    {
      "cell_type": "code",
      "source": [
        "nv.shape"
      ],
      "metadata": {
        "colab": {
          "base_uri": "https://localhost:8080/"
        },
        "id": "83YBDUXFkVjU",
        "outputId": "12b372ab-1149-4872-f594-28844dd60e1d"
      },
      "execution_count": null,
      "outputs": [
        {
          "output_type": "execute_result",
          "data": {
            "text/plain": [
              "torch.Size([3, 5, 4])"
            ]
          },
          "metadata": {},
          "execution_count": 48
        }
      ]
    },
    {
      "cell_type": "code",
      "source": [
        "nv"
      ],
      "metadata": {
        "colab": {
          "base_uri": "https://localhost:8080/"
        },
        "id": "0-ojzI74mXrA",
        "outputId": "58b9f081-a0ae-45a1-9537-c6c66b8b7c5e"
      },
      "execution_count": null,
      "outputs": [
        {
          "output_type": "execute_result",
          "data": {
            "text/plain": [
              "tensor([[[ 0.7721,  0.3507, -0.5177, -0.5645],\n",
              "         [ 0.1298, -0.6281,  0.8674,  0.4509],\n",
              "         [ 0.5411, -0.4341,  0.2171,  0.2226],\n",
              "         [ 0.1134,  0.2308,  0.1086,  0.0849],\n",
              "         [ 0.7340,  0.5271,  0.1615,  0.4457]],\n",
              "\n",
              "        [[-0.7706,  0.2676,  0.0755, -0.5668],\n",
              "         [ 0.8572, -0.0534, -0.8120,  0.3037],\n",
              "         [ 0.3863, -0.1235, -0.0896, -0.1024],\n",
              "         [-0.6353,  0.3501, -0.1980,  0.0881],\n",
              "         [-0.8241,  0.8604,  0.3114, -0.0363]],\n",
              "\n",
              "        [[ 0.0247, -0.3495, -0.1441,  0.3607],\n",
              "         [ 0.1307, -0.0501,  0.2981, -0.2879],\n",
              "         [-0.3692, -0.4643,  0.7433,  0.1519],\n",
              "         [ 0.1711, -0.1332, -0.3892, -0.2093],\n",
              "         [ 0.4225, -0.9980, -0.7338, -0.2779]]], grad_fn=<TransposeBackward0>)"
            ]
          },
          "metadata": {},
          "execution_count": 49
        }
      ]
    },
    {
      "cell_type": "code",
      "source": [
        "# (B, n_heads, T, hidden_size) * (B, n_heads, hidden_size, T) = (B, n_heads, T2, T1)\n",
        "scaled_qk_dense = torch.matmul(nq, nk.transpose(-2, -1)) / torch.sqrt(\n",
        "  torch.tensor(nk.size(-1))\n",
        "  )\n",
        "scaled_qk_dense = scaled_qk_dense * mask\n",
        "scaled_qk_dense.shape"
      ],
      "metadata": {
        "colab": {
          "base_uri": "https://localhost:8080/"
        },
        "id": "cyxN9AyOkVmN",
        "outputId": "6f736d5e-1d55-4847-b633-84994d6a16cb"
      },
      "execution_count": null,
      "outputs": [
        {
          "output_type": "execute_result",
          "data": {
            "text/plain": [
              "torch.Size([3, 5, 5])"
            ]
          },
          "metadata": {},
          "execution_count": 50
        }
      ]
    },
    {
      "cell_type": "code",
      "source": [
        "scaled_qk_dense"
      ],
      "metadata": {
        "colab": {
          "base_uri": "https://localhost:8080/"
        },
        "id": "Vu85YB6QpInL",
        "outputId": "c8a7fb6b-2c81-407f-ca9f-db1ab90f9bd4"
      },
      "execution_count": null,
      "outputs": [
        {
          "output_type": "execute_result",
          "data": {
            "text/plain": [
              "tensor([[[ 0.0000,  0.0000, -0.0000,  0.0000,  0.0000],\n",
              "         [-0.0000, -0.0000, -0.0029, -0.0000, -0.0128],\n",
              "         [ 0.1515, -0.0000, -0.0000,  0.2007,  0.0000],\n",
              "         [ 0.0000, -0.2141, -0.2076,  0.0000,  0.0267],\n",
              "         [ 0.2698, -0.0000, -0.0000,  0.0000,  0.0000]],\n",
              "\n",
              "        [[ 0.0000, -0.0000, -0.0000,  0.0000,  0.0000],\n",
              "         [-0.0000, -0.0000, -0.4182, -0.0000, -0.2533],\n",
              "         [-0.1801, -0.0000, -0.0000, -0.2617, -0.0000],\n",
              "         [ 0.0000, -0.0087, -0.0696,  0.0000,  0.1392],\n",
              "         [ 0.0490, -0.0000, -0.0000,  0.0000, -0.0000]],\n",
              "\n",
              "        [[ 0.0000,  0.0000, -0.0000,  0.0000, -0.0000],\n",
              "         [-0.0000,  0.0000,  0.4674,  0.0000,  0.2948],\n",
              "         [-0.0424, -0.0000, -0.0000, -0.0500,  0.0000],\n",
              "         [ 0.0000, -0.0091,  0.1058,  0.0000,  0.0832],\n",
              "         [-0.0188, -0.0000,  0.0000, -0.0000,  0.0000]]],\n",
              "       grad_fn=<MulBackward0>)"
            ]
          },
          "metadata": {},
          "execution_count": 51
        }
      ]
    },
    {
      "cell_type": "code",
      "source": [
        "torch.where(scaled_qk_dense[0,:,:]!=0)"
      ],
      "metadata": {
        "colab": {
          "base_uri": "https://localhost:8080/"
        },
        "id": "oippO8uioZMc",
        "outputId": "271b1540-1c36-4115-efd4-ac55dfd316dd"
      },
      "execution_count": null,
      "outputs": [
        {
          "output_type": "execute_result",
          "data": {
            "text/plain": [
              "(tensor([1, 1, 2, 2, 3, 3, 3, 4]), tensor([2, 4, 0, 3, 1, 2, 4, 0]))"
            ]
          },
          "metadata": {},
          "execution_count": 52
        }
      ]
    },
    {
      "cell_type": "code",
      "source": [
        "scaled_qk_dense[:, edges[0], edges[1]]"
      ],
      "metadata": {
        "colab": {
          "base_uri": "https://localhost:8080/"
        },
        "id": "-QNZdjBApQ8Z",
        "outputId": "3ed3bd4f-9bf2-4bf6-e0f0-07aa9764a7ea"
      },
      "execution_count": null,
      "outputs": [
        {
          "output_type": "execute_result",
          "data": {
            "text/plain": [
              "tensor([[-0.0029, -0.0128,  0.1515,  0.2007, -0.2141, -0.2076,  0.0267,  0.2698],\n",
              "        [-0.4182, -0.2533, -0.1801, -0.2617, -0.0087, -0.0696,  0.1392,  0.0490],\n",
              "        [ 0.4674,  0.2948, -0.0424, -0.0500, -0.0091,  0.1058,  0.0832, -0.0188]],\n",
              "       grad_fn=<IndexBackward0>)"
            ]
          },
          "metadata": {},
          "execution_count": 53
        }
      ]
    },
    {
      "cell_type": "code",
      "source": [
        "scaled_qk_sparse = (nq[:, edges[0], :] * nk[:, edges[1], :]).sum(-1)/ torch.sqrt(\n",
        "  torch.tensor(nk.size(-1))\n",
        "  )\n",
        "scaled_qk_sparse.shape"
      ],
      "metadata": {
        "colab": {
          "base_uri": "https://localhost:8080/"
        },
        "id": "APfybcJOpgik",
        "outputId": "786886d4-9c2c-49f7-a888-d918b2d7a8ad"
      },
      "execution_count": null,
      "outputs": [
        {
          "output_type": "execute_result",
          "data": {
            "text/plain": [
              "torch.Size([3, 8])"
            ]
          },
          "metadata": {},
          "execution_count": 54
        }
      ]
    },
    {
      "cell_type": "code",
      "source": [
        "scaled_qk_sparse"
      ],
      "metadata": {
        "colab": {
          "base_uri": "https://localhost:8080/"
        },
        "id": "zRpsg3RmpglN",
        "outputId": "67beff92-feb3-47c7-8506-1880e5efed41"
      },
      "execution_count": null,
      "outputs": [
        {
          "output_type": "execute_result",
          "data": {
            "text/plain": [
              "tensor([[-0.0029, -0.0128,  0.1515,  0.2007, -0.2141, -0.2076,  0.0267,  0.2698],\n",
              "        [-0.4182, -0.2533, -0.1801, -0.2617, -0.0087, -0.0696,  0.1392,  0.0490],\n",
              "        [ 0.4674,  0.2948, -0.0424, -0.0500, -0.0091,  0.1058,  0.0832, -0.0188]],\n",
              "       grad_fn=<DivBackward0>)"
            ]
          },
          "metadata": {},
          "execution_count": 55
        }
      ]
    },
    {
      "cell_type": "markdown",
      "source": [
        "## edges ->"
      ],
      "metadata": {
        "id": "zrd1iNEnrpYr"
      }
    },
    {
      "cell_type": "code",
      "source": [
        "ev = W_ev(scaled_qk_sparse.transpose(0, 1))\n",
        "eq = W_eq(edge_features)\n",
        "ek = W_ek(scaled_qk_sparse.transpose(0, 1))"
      ],
      "metadata": {
        "id": "zgtsqth5q-Wd"
      },
      "execution_count": null,
      "outputs": []
    },
    {
      "cell_type": "code",
      "source": [
        "ev = ev.view(-1, eh_heads, e_dim)\n",
        "eq = eq.view(-1, eh_heads, e_dim)\n",
        "ek = ek.view(-1, eh_heads, e_dim)"
      ],
      "metadata": {
        "id": "FMk9r7CFClAU"
      },
      "execution_count": null,
      "outputs": []
    },
    {
      "cell_type": "code",
      "source": [
        "ev.shape"
      ],
      "metadata": {
        "colab": {
          "base_uri": "https://localhost:8080/"
        },
        "id": "vprZDNBzCca6",
        "outputId": "df2d3929-9107-4468-847b-bc7fe12f4300"
      },
      "execution_count": null,
      "outputs": [
        {
          "output_type": "execute_result",
          "data": {
            "text/plain": [
              "torch.Size([8, 2, 4])"
            ]
          },
          "metadata": {},
          "execution_count": 58
        }
      ]
    },
    {
      "cell_type": "code",
      "source": [
        "ev_dense = torch.sparse_coo_tensor(edges, ev, (n_nodes, n_nodes, eh_heads, e_dim)).to_dense().permute((2, 0, 1, 3))"
      ],
      "metadata": {
        "id": "oaX-s3eZQkS4"
      },
      "execution_count": null,
      "outputs": []
    },
    {
      "cell_type": "code",
      "source": [
        "eq = torch.sparse_coo_tensor(edges, eq, (n_nodes, n_nodes, eh_heads, e_dim)).to_dense()\n",
        "ek = torch.sparse_coo_tensor(edges, ek, (n_nodes, n_nodes, eh_heads, e_dim)).to_dense()\n",
        "ev = torch.sparse_coo_tensor(edges, ev, (n_nodes, n_nodes, eh_heads, e_dim)).to_dense()"
      ],
      "metadata": {
        "id": "KNbp7bgeCawF"
      },
      "execution_count": null,
      "outputs": []
    },
    {
      "cell_type": "code",
      "source": [
        "ev.shape"
      ],
      "metadata": {
        "colab": {
          "base_uri": "https://localhost:8080/"
        },
        "id": "GBf8dQUhDBCH",
        "outputId": "afe9639f-ef12-40ba-b28a-c1988152d55d"
      },
      "execution_count": null,
      "outputs": [
        {
          "output_type": "execute_result",
          "data": {
            "text/plain": [
              "torch.Size([5, 5, 2, 4])"
            ]
          },
          "metadata": {},
          "execution_count": 61
        }
      ]
    },
    {
      "cell_type": "code",
      "source": [
        "ev = ev.permute((2, 0, 1, 3))\n",
        "eq = eq.permute((2, 0, 1, 3))\n",
        "ek = ek.permute((2, 0, 1, 3))"
      ],
      "metadata": {
        "id": "TouiuRN6DpFP"
      },
      "execution_count": null,
      "outputs": []
    },
    {
      "cell_type": "code",
      "source": [
        "scaled_eqk_dense = torch.matmul(eq , ek.transpose(-2, -1)) / torch.sqrt(\n",
        "  torch.tensor(ek.size(-1))\n",
        "  )\n"
      ],
      "metadata": {
        "id": "AIeK06d4r1iz"
      },
      "execution_count": null,
      "outputs": []
    },
    {
      "cell_type": "code",
      "source": [
        "ev = W_ev(scaled_qk_sparse.transpose(0, 1))\n",
        "eq = W_eq(edge_features)\n",
        "ek = W_ek(scaled_qk_sparse.transpose(0, 1))"
      ],
      "metadata": {
        "id": "XnKK6Tjyr3Bm"
      },
      "execution_count": null,
      "outputs": []
    },
    {
      "cell_type": "code",
      "source": [
        "ev = ev.view(-1, eh_heads, e_dim)\n",
        "eq = eq.view(-1, eh_heads, e_dim)\n",
        "ek = ek.view(-1, eh_heads, e_dim)"
      ],
      "metadata": {
        "id": "Rmt86vxIEWnE"
      },
      "execution_count": null,
      "outputs": []
    },
    {
      "cell_type": "code",
      "source": [
        "edges"
      ],
      "metadata": {
        "colab": {
          "base_uri": "https://localhost:8080/"
        },
        "id": "GYVaqkVINKYP",
        "outputId": "78cb16b9-a324-41b7-edc9-9e1f388ce378"
      },
      "execution_count": null,
      "outputs": [
        {
          "output_type": "execute_result",
          "data": {
            "text/plain": [
              "tensor([[1, 1, 2, 2, 3, 3, 3, 4],\n",
              "        [2, 4, 0, 3, 1, 2, 4, 0]])"
            ]
          },
          "metadata": {},
          "execution_count": 66
        }
      ]
    },
    {
      "cell_type": "code",
      "source": [
        "a, b = torch.unique(edges[0, :], return_counts=True)\n",
        "cumsum = torch.cumsum(b, dim=0)\n",
        "cumsum = torch.stack([torch.hstack([torch.tensor([0]), cumsum])[:-1], cumsum, b])\n",
        "eik = torch.cat([torch.arange(s, e, dtype=torch.int64).repeat(r) for s, e, r in cumsum.T])\n",
        "eiq = torch.cat([torch.arange(s, e, dtype=torch.int64).repeat((r, 1)).transpose(0, 1).reshape(r**2) for s, e, r in cumsum.T])\n",
        "\n",
        "indices_to_reduce_from_n3_shape = torch.stack([torch.repeat_interleave(a, b**2),\n",
        "             edges[1, eiq],\n",
        "             edges[1, eik],\n",
        "             ])"
      ],
      "metadata": {
        "id": "Ne_sEyX5avUy"
      },
      "execution_count": null,
      "outputs": []
    },
    {
      "cell_type": "code",
      "source": [
        "indices_to_reduce_from_n3_shape[2]"
      ],
      "metadata": {
        "colab": {
          "base_uri": "https://localhost:8080/"
        },
        "id": "Z2LlJ566ZLw7",
        "outputId": "9f340526-f40b-4bc1-9227-309d8cb0b0c1"
      },
      "execution_count": null,
      "outputs": [
        {
          "output_type": "execute_result",
          "data": {
            "text/plain": [
              "tensor([2, 4, 2, 4, 0, 3, 0, 3, 1, 2, 4, 1, 2, 4, 1, 2, 4, 0])"
            ]
          },
          "metadata": {},
          "execution_count": 68
        }
      ]
    },
    {
      "cell_type": "code",
      "source": [
        "ev.shape"
      ],
      "metadata": {
        "colab": {
          "base_uri": "https://localhost:8080/"
        },
        "id": "N-VAUMkQEVkQ",
        "outputId": "e400304f-39ed-43bf-e4ea-d04567c2988f"
      },
      "execution_count": null,
      "outputs": [
        {
          "output_type": "execute_result",
          "data": {
            "text/plain": [
              "torch.Size([8, 2, 4])"
            ]
          },
          "metadata": {},
          "execution_count": 69
        }
      ]
    },
    {
      "cell_type": "code",
      "source": [
        "scaled_eqk_sparse = (eq[eiq,:,:] * ek[eik,:,:]).sum(-1)/torch.sqrt(torch.tensor(ek.size(-1)))"
      ],
      "metadata": {
        "id": "Vj7qxoA2jD1q"
      },
      "execution_count": null,
      "outputs": []
    },
    {
      "cell_type": "code",
      "source": [
        "indices_to_reduce_from_n3_shape"
      ],
      "metadata": {
        "colab": {
          "base_uri": "https://localhost:8080/"
        },
        "id": "PYeJLgdWi36f",
        "outputId": "9810b4df-013b-4c2d-a87a-ac9b072416b0"
      },
      "execution_count": null,
      "outputs": [
        {
          "output_type": "execute_result",
          "data": {
            "text/plain": [
              "tensor([[1, 1, 1, 1, 2, 2, 2, 2, 3, 3, 3, 3, 3, 3, 3, 3, 3, 4],\n",
              "        [2, 2, 4, 4, 0, 0, 3, 3, 1, 1, 1, 2, 2, 2, 4, 4, 4, 0],\n",
              "        [2, 4, 2, 4, 0, 3, 0, 3, 1, 2, 4, 1, 2, 4, 1, 2, 4, 0]])"
            ]
          },
          "metadata": {},
          "execution_count": 71
        }
      ]
    },
    {
      "cell_type": "code",
      "source": [
        "scaled_eqk_sparse"
      ],
      "metadata": {
        "colab": {
          "base_uri": "https://localhost:8080/"
        },
        "id": "8NBcn-IBww2B",
        "outputId": "36db4fc4-4e26-47ef-91a0-37d8e71e0885"
      },
      "execution_count": null,
      "outputs": [
        {
          "output_type": "execute_result",
          "data": {
            "text/plain": [
              "tensor([[-0.3580,  0.2582],\n",
              "        [-0.3553,  0.1997],\n",
              "        [ 0.2449, -0.1392],\n",
              "        [ 0.2507, -0.0659],\n",
              "        [-0.2069,  0.1218],\n",
              "        [-0.2061,  0.1365],\n",
              "        [ 0.0326,  0.1796],\n",
              "        [ 0.0293,  0.2036],\n",
              "        [-0.0787,  0.0509],\n",
              "        [-0.0927,  0.0535],\n",
              "        [-0.0809,  0.0680],\n",
              "        [-0.1561,  0.0969],\n",
              "        [-0.1826,  0.1100],\n",
              "        [-0.1032,  0.0604],\n",
              "        [ 0.9218,  0.0523],\n",
              "        [ 0.8961, -0.0078],\n",
              "        [ 0.7457,  0.0518],\n",
              "        [ 0.2940,  0.0767]], grad_fn=<DivBackward0>)"
            ]
          },
          "metadata": {},
          "execution_count": 148
        }
      ]
    },
    {
      "cell_type": "code",
      "source": [
        "scaled_eqk_dense.shape"
      ],
      "metadata": {
        "colab": {
          "base_uri": "https://localhost:8080/"
        },
        "id": "LxW_HlviSDij",
        "outputId": "4bec1b97-0433-41e3-a973-55ab870be662"
      },
      "execution_count": null,
      "outputs": [
        {
          "output_type": "execute_result",
          "data": {
            "text/plain": [
              "torch.Size([2, 5, 5, 5])"
            ]
          },
          "metadata": {},
          "execution_count": 73
        }
      ]
    },
    {
      "cell_type": "code",
      "source": [
        "scaled_eqk_dense"
      ],
      "metadata": {
        "colab": {
          "base_uri": "https://localhost:8080/"
        },
        "id": "0noIURl0mai-",
        "outputId": "14c0b818-985e-4178-d183-80c1fb8f35a7"
      },
      "execution_count": null,
      "outputs": [
        {
          "output_type": "execute_result",
          "data": {
            "text/plain": [
              "tensor([[[[ 0.0000,  0.0000,  0.0000,  0.0000,  0.0000],\n",
              "          [ 0.0000,  0.0000,  0.0000,  0.0000,  0.0000],\n",
              "          [ 0.0000,  0.0000,  0.0000,  0.0000,  0.0000],\n",
              "          [ 0.0000,  0.0000,  0.0000,  0.0000,  0.0000],\n",
              "          [ 0.0000,  0.0000,  0.0000,  0.0000,  0.0000]],\n",
              "\n",
              "         [[ 0.0000,  0.0000,  0.0000,  0.0000,  0.0000],\n",
              "          [ 0.0000,  0.0000,  0.0000,  0.0000,  0.0000],\n",
              "          [ 0.0000,  0.0000, -0.3580,  0.0000, -0.3553],\n",
              "          [ 0.0000,  0.0000,  0.0000,  0.0000,  0.0000],\n",
              "          [ 0.0000,  0.0000,  0.2449,  0.0000,  0.2507]],\n",
              "\n",
              "         [[-0.2069,  0.0000,  0.0000, -0.2061,  0.0000],\n",
              "          [ 0.0000,  0.0000,  0.0000,  0.0000,  0.0000],\n",
              "          [ 0.0000,  0.0000,  0.0000,  0.0000,  0.0000],\n",
              "          [ 0.0326,  0.0000,  0.0000,  0.0293,  0.0000],\n",
              "          [ 0.0000,  0.0000,  0.0000,  0.0000,  0.0000]],\n",
              "\n",
              "         [[ 0.0000,  0.0000,  0.0000,  0.0000,  0.0000],\n",
              "          [ 0.0000, -0.0787, -0.0927,  0.0000, -0.0809],\n",
              "          [ 0.0000, -0.1561, -0.1826,  0.0000, -0.1032],\n",
              "          [ 0.0000,  0.0000,  0.0000,  0.0000,  0.0000],\n",
              "          [ 0.0000,  0.9218,  0.8961,  0.0000,  0.7457]],\n",
              "\n",
              "         [[ 0.2940,  0.0000,  0.0000,  0.0000,  0.0000],\n",
              "          [ 0.0000,  0.0000,  0.0000,  0.0000,  0.0000],\n",
              "          [ 0.0000,  0.0000,  0.0000,  0.0000,  0.0000],\n",
              "          [ 0.0000,  0.0000,  0.0000,  0.0000,  0.0000],\n",
              "          [ 0.0000,  0.0000,  0.0000,  0.0000,  0.0000]]],\n",
              "\n",
              "\n",
              "        [[[ 0.0000,  0.0000,  0.0000,  0.0000,  0.0000],\n",
              "          [ 0.0000,  0.0000,  0.0000,  0.0000,  0.0000],\n",
              "          [ 0.0000,  0.0000,  0.0000,  0.0000,  0.0000],\n",
              "          [ 0.0000,  0.0000,  0.0000,  0.0000,  0.0000],\n",
              "          [ 0.0000,  0.0000,  0.0000,  0.0000,  0.0000]],\n",
              "\n",
              "         [[ 0.0000,  0.0000,  0.0000,  0.0000,  0.0000],\n",
              "          [ 0.0000,  0.0000,  0.0000,  0.0000,  0.0000],\n",
              "          [ 0.0000,  0.0000,  0.2582,  0.0000,  0.1997],\n",
              "          [ 0.0000,  0.0000,  0.0000,  0.0000,  0.0000],\n",
              "          [ 0.0000,  0.0000, -0.1392,  0.0000, -0.0659]],\n",
              "\n",
              "         [[ 0.1218,  0.0000,  0.0000,  0.1365,  0.0000],\n",
              "          [ 0.0000,  0.0000,  0.0000,  0.0000,  0.0000],\n",
              "          [ 0.0000,  0.0000,  0.0000,  0.0000,  0.0000],\n",
              "          [ 0.1796,  0.0000,  0.0000,  0.2036,  0.0000],\n",
              "          [ 0.0000,  0.0000,  0.0000,  0.0000,  0.0000]],\n",
              "\n",
              "         [[ 0.0000,  0.0000,  0.0000,  0.0000,  0.0000],\n",
              "          [ 0.0000,  0.0509,  0.0535,  0.0000,  0.0680],\n",
              "          [ 0.0000,  0.0969,  0.1100,  0.0000,  0.0604],\n",
              "          [ 0.0000,  0.0000,  0.0000,  0.0000,  0.0000],\n",
              "          [ 0.0000,  0.0523, -0.0078,  0.0000,  0.0518]],\n",
              "\n",
              "         [[ 0.0767,  0.0000,  0.0000,  0.0000,  0.0000],\n",
              "          [ 0.0000,  0.0000,  0.0000,  0.0000,  0.0000],\n",
              "          [ 0.0000,  0.0000,  0.0000,  0.0000,  0.0000],\n",
              "          [ 0.0000,  0.0000,  0.0000,  0.0000,  0.0000],\n",
              "          [ 0.0000,  0.0000,  0.0000,  0.0000,  0.0000]]]],\n",
              "       grad_fn=<DivBackward0>)"
            ]
          },
          "metadata": {},
          "execution_count": 74
        }
      ]
    },
    {
      "cell_type": "code",
      "source": [
        "indices_to_reduce_from_n3_shape"
      ],
      "metadata": {
        "colab": {
          "base_uri": "https://localhost:8080/"
        },
        "id": "-NefZyikNNxP",
        "outputId": "1f621998-86f5-46ed-b86c-181b14ebb006"
      },
      "execution_count": null,
      "outputs": [
        {
          "output_type": "execute_result",
          "data": {
            "text/plain": [
              "tensor([[1, 1, 1, 1, 2, 2, 2, 2, 3, 3, 3, 3, 3, 3, 3, 3, 3, 4],\n",
              "        [2, 2, 4, 4, 0, 0, 3, 3, 1, 1, 1, 2, 2, 2, 4, 4, 4, 0],\n",
              "        [2, 4, 2, 4, 0, 3, 0, 3, 1, 2, 4, 1, 2, 4, 1, 2, 4, 0]])"
            ]
          },
          "metadata": {},
          "execution_count": 76
        }
      ]
    },
    {
      "cell_type": "code",
      "source": [
        "from torch_geometric.utils import softmax, scatter"
      ],
      "metadata": {
        "id": "mPHTMwlFMQQz"
      },
      "execution_count": null,
      "outputs": []
    },
    {
      "cell_type": "code",
      "source": [
        "scaled_eqk_sparse = softmax(\n",
        "    src=scaled_eqk_sparse,\n",
        "    index=eiq,\n",
        "    num_nodes=n_edges,\n",
        ")"
      ],
      "metadata": {
        "id": "gGiwFYgoMUMw"
      },
      "execution_count": null,
      "outputs": []
    },
    {
      "cell_type": "code",
      "source": [
        "scaled_eqk_dense[scaled_eqk_dense==0] = float(\"-inf\")\n",
        "scaled_eqk_dense = torch.nn.functional.softmax(scaled_eqk_dense, dim=-1).nan_to_num(0)\n",
        "scaled_eqk_dense"
      ],
      "metadata": {
        "colab": {
          "base_uri": "https://localhost:8080/"
        },
        "id": "yTCiAmq_KxuI",
        "outputId": "aadc7731-7248-4f3f-af5c-97800f02a19d"
      },
      "execution_count": null,
      "outputs": [
        {
          "output_type": "execute_result",
          "data": {
            "text/plain": [
              "tensor([[[[0.0000, 0.0000, 0.0000, 0.0000, 0.0000],\n",
              "          [0.0000, 0.0000, 0.0000, 0.0000, 0.0000],\n",
              "          [0.0000, 0.0000, 0.0000, 0.0000, 0.0000],\n",
              "          [0.0000, 0.0000, 0.0000, 0.0000, 0.0000],\n",
              "          [0.0000, 0.0000, 0.0000, 0.0000, 0.0000]],\n",
              "\n",
              "         [[0.0000, 0.0000, 0.0000, 0.0000, 0.0000],\n",
              "          [0.0000, 0.0000, 0.0000, 0.0000, 0.0000],\n",
              "          [0.0000, 0.0000, 0.4993, 0.0000, 0.5007],\n",
              "          [0.0000, 0.0000, 0.0000, 0.0000, 0.0000],\n",
              "          [0.0000, 0.0000, 0.4985, 0.0000, 0.5015]],\n",
              "\n",
              "         [[0.4998, 0.0000, 0.0000, 0.5002, 0.0000],\n",
              "          [0.0000, 0.0000, 0.0000, 0.0000, 0.0000],\n",
              "          [0.0000, 0.0000, 0.0000, 0.0000, 0.0000],\n",
              "          [0.5008, 0.0000, 0.0000, 0.4992, 0.0000],\n",
              "          [0.0000, 0.0000, 0.0000, 0.0000, 0.0000]],\n",
              "\n",
              "         [[0.0000, 0.0000, 0.0000, 0.0000, 0.0000],\n",
              "          [0.0000, 0.3351, 0.3305, 0.0000, 0.3344],\n",
              "          [0.0000, 0.3302, 0.3216, 0.0000, 0.3482],\n",
              "          [0.0000, 0.0000, 0.0000, 0.0000, 0.0000],\n",
              "          [0.0000, 0.3555, 0.3465, 0.0000, 0.2981]],\n",
              "\n",
              "         [[1.0000, 0.0000, 0.0000, 0.0000, 0.0000],\n",
              "          [0.0000, 0.0000, 0.0000, 0.0000, 0.0000],\n",
              "          [0.0000, 0.0000, 0.0000, 0.0000, 0.0000],\n",
              "          [0.0000, 0.0000, 0.0000, 0.0000, 0.0000],\n",
              "          [0.0000, 0.0000, 0.0000, 0.0000, 0.0000]]],\n",
              "\n",
              "\n",
              "        [[[0.0000, 0.0000, 0.0000, 0.0000, 0.0000],\n",
              "          [0.0000, 0.0000, 0.0000, 0.0000, 0.0000],\n",
              "          [0.0000, 0.0000, 0.0000, 0.0000, 0.0000],\n",
              "          [0.0000, 0.0000, 0.0000, 0.0000, 0.0000],\n",
              "          [0.0000, 0.0000, 0.0000, 0.0000, 0.0000]],\n",
              "\n",
              "         [[0.0000, 0.0000, 0.0000, 0.0000, 0.0000],\n",
              "          [0.0000, 0.0000, 0.0000, 0.0000, 0.0000],\n",
              "          [0.0000, 0.0000, 0.5146, 0.0000, 0.4854],\n",
              "          [0.0000, 0.0000, 0.0000, 0.0000, 0.0000],\n",
              "          [0.0000, 0.0000, 0.4817, 0.0000, 0.5183]],\n",
              "\n",
              "         [[0.4963, 0.0000, 0.0000, 0.5037, 0.0000],\n",
              "          [0.0000, 0.0000, 0.0000, 0.0000, 0.0000],\n",
              "          [0.0000, 0.0000, 0.0000, 0.0000, 0.0000],\n",
              "          [0.4940, 0.0000, 0.0000, 0.5060, 0.0000],\n",
              "          [0.0000, 0.0000, 0.0000, 0.0000, 0.0000]],\n",
              "\n",
              "         [[0.0000, 0.0000, 0.0000, 0.0000, 0.0000],\n",
              "          [0.0000, 0.3311, 0.3320, 0.0000, 0.3369],\n",
              "          [0.0000, 0.3359, 0.3403, 0.0000, 0.3238],\n",
              "          [0.0000, 0.0000, 0.0000, 0.0000, 0.0000],\n",
              "          [0.0000, 0.3400, 0.3202, 0.0000, 0.3398]],\n",
              "\n",
              "         [[1.0000, 0.0000, 0.0000, 0.0000, 0.0000],\n",
              "          [0.0000, 0.0000, 0.0000, 0.0000, 0.0000],\n",
              "          [0.0000, 0.0000, 0.0000, 0.0000, 0.0000],\n",
              "          [0.0000, 0.0000, 0.0000, 0.0000, 0.0000],\n",
              "          [0.0000, 0.0000, 0.0000, 0.0000, 0.0000]]]],\n",
              "       grad_fn=<NanToNumBackward0>)"
            ]
          },
          "metadata": {},
          "execution_count": 79
        }
      ]
    },
    {
      "cell_type": "code",
      "source": [
        "scaled_eqk_dense.shape"
      ],
      "metadata": {
        "colab": {
          "base_uri": "https://localhost:8080/"
        },
        "id": "ewI_wfZuLiaQ",
        "outputId": "25611dcc-692a-45f6-c4d7-f975a2ad2a7a"
      },
      "execution_count": null,
      "outputs": [
        {
          "output_type": "execute_result",
          "data": {
            "text/plain": [
              "torch.Size([2, 5, 5, 5])"
            ]
          },
          "metadata": {},
          "execution_count": 80
        }
      ]
    },
    {
      "cell_type": "markdown",
      "source": [
        "## edge <-"
      ],
      "metadata": {
        "id": "rKnWTx0m0mwR"
      }
    },
    {
      "cell_type": "code",
      "source": [
        "edges"
      ],
      "metadata": {
        "colab": {
          "base_uri": "https://localhost:8080/"
        },
        "id": "7gwg5eKysMhi",
        "outputId": "e079bc66-e2a2-445a-e5aa-4dabb174d162"
      },
      "execution_count": null,
      "outputs": [
        {
          "output_type": "execute_result",
          "data": {
            "text/plain": [
              "tensor([[1, 1, 2, 2, 3, 3, 3, 4],\n",
              "        [2, 4, 0, 3, 1, 2, 4, 0]])"
            ]
          },
          "metadata": {},
          "execution_count": 81
        }
      ]
    },
    {
      "cell_type": "code",
      "source": [
        "scaled_eqk_sparse"
      ],
      "metadata": {
        "colab": {
          "base_uri": "https://localhost:8080/"
        },
        "id": "K6o-_BWARH5E",
        "outputId": "0dab2acd-6452-4fd6-c8ff-995e21c81550"
      },
      "execution_count": null,
      "outputs": [
        {
          "output_type": "execute_result",
          "data": {
            "text/plain": [
              "tensor([[0.4993, 0.5146],\n",
              "        [0.5007, 0.4854],\n",
              "        [0.4985, 0.4817],\n",
              "        [0.5015, 0.5183],\n",
              "        [0.4998, 0.4963],\n",
              "        [0.5002, 0.5037],\n",
              "        [0.5008, 0.4940],\n",
              "        [0.4992, 0.5060],\n",
              "        [0.3351, 0.3311],\n",
              "        [0.3305, 0.3320],\n",
              "        [0.3344, 0.3369],\n",
              "        [0.3302, 0.3359],\n",
              "        [0.3216, 0.3403],\n",
              "        [0.3482, 0.3238],\n",
              "        [0.3555, 0.3400],\n",
              "        [0.3465, 0.3202],\n",
              "        [0.2981, 0.3398],\n",
              "        [1.0000, 1.0000]], grad_fn=<DivBackward0>)"
            ]
          },
          "metadata": {},
          "execution_count": 173
        }
      ]
    },
    {
      "cell_type": "code",
      "source": [
        "scaled_eqk_sparse.unsqueeze(-1).shape, ev[eik,:,:].shape"
      ],
      "metadata": {
        "colab": {
          "base_uri": "https://localhost:8080/"
        },
        "id": "vva2ZS6yEtgp",
        "outputId": "e183da42-ce0c-4c86-d05f-d2d67a67b52c"
      },
      "execution_count": null,
      "outputs": [
        {
          "output_type": "execute_result",
          "data": {
            "text/plain": [
              "(torch.Size([18, 2, 1]), torch.Size([18, 2, 4]))"
            ]
          },
          "metadata": {},
          "execution_count": 83
        }
      ]
    },
    {
      "cell_type": "code",
      "source": [
        "scaled_eqkv_sparse = scaled_eqk_sparse.unsqueeze(-1) * ev[eik,:,:]"
      ],
      "metadata": {
        "id": "VNwVt55RBCJ2"
      },
      "execution_count": null,
      "outputs": []
    },
    {
      "cell_type": "code",
      "source": [
        "scaled_eqkv_sparse.shape"
      ],
      "metadata": {
        "colab": {
          "base_uri": "https://localhost:8080/"
        },
        "id": "dxt-QVOHIrfD",
        "outputId": "10484700-c14a-44d0-bd66-98281a15d390"
      },
      "execution_count": null,
      "outputs": [
        {
          "output_type": "execute_result",
          "data": {
            "text/plain": [
              "torch.Size([18, 2, 4])"
            ]
          },
          "metadata": {},
          "execution_count": 141
        }
      ]
    },
    {
      "cell_type": "code",
      "source": [
        "indices_to_reduce_from_n3_shape"
      ],
      "metadata": {
        "colab": {
          "base_uri": "https://localhost:8080/"
        },
        "id": "Rp8EIqsOIXMt",
        "outputId": "c04a49ba-5d50-41fe-bbf6-4fb975c0df46"
      },
      "execution_count": null,
      "outputs": [
        {
          "output_type": "execute_result",
          "data": {
            "text/plain": [
              "tensor([[1, 1, 1, 1, 2, 2, 2, 2, 3, 3, 3, 3, 3, 3, 3, 3, 3, 4],\n",
              "        [2, 2, 4, 4, 0, 0, 3, 3, 1, 1, 1, 2, 2, 2, 4, 4, 4, 0],\n",
              "        [2, 4, 2, 4, 0, 3, 0, 3, 1, 2, 4, 1, 2, 4, 1, 2, 4, 0]])"
            ]
          },
          "metadata": {},
          "execution_count": 142
        }
      ]
    },
    {
      "cell_type": "code",
      "source": [
        "e_result_sparse = scatter(scaled_eqkv_sparse, eiq, 0, dim_size=n_edges, reduce='sum')"
      ],
      "metadata": {
        "id": "9di61KFbIO_h"
      },
      "execution_count": null,
      "outputs": []
    },
    {
      "cell_type": "code",
      "source": [
        "e_result_sparse"
      ],
      "metadata": {
        "colab": {
          "base_uri": "https://localhost:8080/"
        },
        "id": "ESCoz4ib0lPJ",
        "outputId": "120fb543-c1f9-4ba9-aa05-8bdcd6553688"
      },
      "execution_count": null,
      "outputs": [
        {
          "output_type": "execute_result",
          "data": {
            "text/plain": [
              "tensor([[[ 0.6403, -0.2865, -0.2470,  0.1731],\n",
              "         [ 0.5066,  0.3076, -0.5122, -0.4644]],\n",
              "\n",
              "        [[ 0.6403, -0.2866, -0.2470,  0.1731],\n",
              "         [ 0.5016,  0.3079, -0.5118, -0.4632]],\n",
              "\n",
              "        [[ 0.3692, -0.4656, -0.1010,  0.1291],\n",
              "         [ 0.3924,  0.5164, -0.4191, -0.4785]],\n",
              "\n",
              "        [[ 0.3693, -0.4656, -0.1010,  0.1291],\n",
              "         [ 0.3925,  0.5165, -0.4190, -0.4785]],\n",
              "\n",
              "        [[ 0.6849, -0.4063, -0.0815,  0.1831],\n",
              "         [ 0.1400,  0.2753, -0.4655, -0.3530]],\n",
              "\n",
              "        [[ 0.6844, -0.4086, -0.0809,  0.1802],\n",
              "         [ 0.1397,  0.2759, -0.4626, -0.3520]],\n",
              "\n",
              "        [[ 0.6860, -0.4004, -0.0826,  0.1907],\n",
              "         [ 0.1394,  0.2754, -0.4658, -0.3530]],\n",
              "\n",
              "        [[ 0.4465, -0.6026, -0.0480, -0.0339],\n",
              "         [ 0.3048,  0.3886, -0.6223, -0.4897]]], grad_fn=<ScatterAddBackward0>)"
            ]
          },
          "metadata": {},
          "execution_count": 176
        }
      ]
    },
    {
      "cell_type": "code",
      "source": [
        "e_result_sparse.to_dense().permute((2, 0, 1, 3))"
      ],
      "metadata": {
        "id": "cEyOm2HGSoFy",
        "colab": {
          "base_uri": "https://localhost:8080/"
        },
        "outputId": "51bed20b-a777-4ca9-9fdb-8fa82ffd555b"
      },
      "execution_count": null,
      "outputs": [
        {
          "output_type": "execute_result",
          "data": {
            "text/plain": [
              "tensor([[[[ 0.0000,  0.0000,  0.0000,  0.0000],\n",
              "          [ 0.0000,  0.0000,  0.0000,  0.0000],\n",
              "          [ 0.0000,  0.0000,  0.0000,  0.0000],\n",
              "          [ 0.0000,  0.0000,  0.0000,  0.0000],\n",
              "          [ 0.0000,  0.0000,  0.0000,  0.0000]],\n",
              "\n",
              "         [[ 0.0000,  0.0000,  0.0000,  0.0000],\n",
              "          [ 0.0000,  0.0000,  0.0000,  0.0000],\n",
              "          [ 0.6403, -0.2865, -0.2470,  0.1731],\n",
              "          [ 0.0000,  0.0000,  0.0000,  0.0000],\n",
              "          [ 0.6403, -0.2866, -0.2470,  0.1731]],\n",
              "\n",
              "         [[ 0.3692, -0.4656, -0.1010,  0.1291],\n",
              "          [ 0.0000,  0.0000,  0.0000,  0.0000],\n",
              "          [ 0.0000,  0.0000,  0.0000,  0.0000],\n",
              "          [ 0.3693, -0.4656, -0.1010,  0.1291],\n",
              "          [ 0.0000,  0.0000,  0.0000,  0.0000]],\n",
              "\n",
              "         [[ 0.0000,  0.0000,  0.0000,  0.0000],\n",
              "          [ 0.6849, -0.4063, -0.0815,  0.1831],\n",
              "          [ 0.6844, -0.4086, -0.0809,  0.1802],\n",
              "          [ 0.0000,  0.0000,  0.0000,  0.0000],\n",
              "          [ 0.6860, -0.4004, -0.0826,  0.1907]],\n",
              "\n",
              "         [[ 0.4465, -0.6026, -0.0480, -0.0339],\n",
              "          [ 0.0000,  0.0000,  0.0000,  0.0000],\n",
              "          [ 0.0000,  0.0000,  0.0000,  0.0000],\n",
              "          [ 0.0000,  0.0000,  0.0000,  0.0000],\n",
              "          [ 0.0000,  0.0000,  0.0000,  0.0000]]],\n",
              "\n",
              "\n",
              "        [[[ 0.0000,  0.0000,  0.0000,  0.0000],\n",
              "          [ 0.0000,  0.0000,  0.0000,  0.0000],\n",
              "          [ 0.0000,  0.0000,  0.0000,  0.0000],\n",
              "          [ 0.0000,  0.0000,  0.0000,  0.0000],\n",
              "          [ 0.0000,  0.0000,  0.0000,  0.0000]],\n",
              "\n",
              "         [[ 0.0000,  0.0000,  0.0000,  0.0000],\n",
              "          [ 0.0000,  0.0000,  0.0000,  0.0000],\n",
              "          [ 0.5066,  0.3076, -0.5122, -0.4644],\n",
              "          [ 0.0000,  0.0000,  0.0000,  0.0000],\n",
              "          [ 0.5016,  0.3079, -0.5118, -0.4632]],\n",
              "\n",
              "         [[ 0.3924,  0.5164, -0.4191, -0.4785],\n",
              "          [ 0.0000,  0.0000,  0.0000,  0.0000],\n",
              "          [ 0.0000,  0.0000,  0.0000,  0.0000],\n",
              "          [ 0.3925,  0.5165, -0.4190, -0.4785],\n",
              "          [ 0.0000,  0.0000,  0.0000,  0.0000]],\n",
              "\n",
              "         [[ 0.0000,  0.0000,  0.0000,  0.0000],\n",
              "          [ 0.1400,  0.2753, -0.4655, -0.3530],\n",
              "          [ 0.1397,  0.2759, -0.4626, -0.3520],\n",
              "          [ 0.0000,  0.0000,  0.0000,  0.0000],\n",
              "          [ 0.1394,  0.2754, -0.4658, -0.3530]],\n",
              "\n",
              "         [[ 0.3048,  0.3886, -0.6223, -0.4897],\n",
              "          [ 0.0000,  0.0000,  0.0000,  0.0000],\n",
              "          [ 0.0000,  0.0000,  0.0000,  0.0000],\n",
              "          [ 0.0000,  0.0000,  0.0000,  0.0000],\n",
              "          [ 0.0000,  0.0000,  0.0000,  0.0000]]]], grad_fn=<PermuteBackward0>)"
            ]
          },
          "metadata": {},
          "execution_count": 87
        }
      ]
    },
    {
      "cell_type": "code",
      "source": [
        "scaled_eqk_dense.shape, ev_dense.shape"
      ],
      "metadata": {
        "colab": {
          "base_uri": "https://localhost:8080/"
        },
        "id": "lvnS-qSeQ_wH",
        "outputId": "ad771fb0-1fbe-46be-dbab-93a058bd3e02"
      },
      "execution_count": null,
      "outputs": [
        {
          "output_type": "execute_result",
          "data": {
            "text/plain": [
              "(torch.Size([2, 5, 5, 5]), torch.Size([2, 5, 5, 4]))"
            ]
          },
          "metadata": {},
          "execution_count": 88
        }
      ]
    },
    {
      "cell_type": "code",
      "source": [
        "e_result_dense = torch.matmul(scaled_eqk_dense, ev_dense)"
      ],
      "metadata": {
        "id": "sFxJEvjVQtQY"
      },
      "execution_count": null,
      "outputs": []
    },
    {
      "cell_type": "code",
      "source": [
        "e_result_dense"
      ],
      "metadata": {
        "colab": {
          "base_uri": "https://localhost:8080/"
        },
        "id": "znGSluS0Of9J",
        "outputId": "3ad34419-3ce6-4231-ee7e-239cfd759609"
      },
      "execution_count": null,
      "outputs": [
        {
          "output_type": "execute_result",
          "data": {
            "text/plain": [
              "tensor([[[[ 0.0000,  0.0000,  0.0000,  0.0000],\n",
              "          [ 0.0000,  0.0000,  0.0000,  0.0000],\n",
              "          [ 0.0000,  0.0000,  0.0000,  0.0000],\n",
              "          [ 0.0000,  0.0000,  0.0000,  0.0000],\n",
              "          [ 0.0000,  0.0000,  0.0000,  0.0000]],\n",
              "\n",
              "         [[ 0.0000,  0.0000,  0.0000,  0.0000],\n",
              "          [ 0.0000,  0.0000,  0.0000,  0.0000],\n",
              "          [ 0.6403, -0.2865, -0.2470,  0.1731],\n",
              "          [ 0.0000,  0.0000,  0.0000,  0.0000],\n",
              "          [ 0.6403, -0.2866, -0.2470,  0.1731]],\n",
              "\n",
              "         [[ 0.3692, -0.4656, -0.1010,  0.1291],\n",
              "          [ 0.0000,  0.0000,  0.0000,  0.0000],\n",
              "          [ 0.0000,  0.0000,  0.0000,  0.0000],\n",
              "          [ 0.3693, -0.4656, -0.1010,  0.1291],\n",
              "          [ 0.0000,  0.0000,  0.0000,  0.0000]],\n",
              "\n",
              "         [[ 0.0000,  0.0000,  0.0000,  0.0000],\n",
              "          [ 0.6849, -0.4063, -0.0815,  0.1831],\n",
              "          [ 0.6844, -0.4086, -0.0809,  0.1802],\n",
              "          [ 0.0000,  0.0000,  0.0000,  0.0000],\n",
              "          [ 0.6860, -0.4004, -0.0826,  0.1907]],\n",
              "\n",
              "         [[ 0.4465, -0.6026, -0.0480, -0.0339],\n",
              "          [ 0.0000,  0.0000,  0.0000,  0.0000],\n",
              "          [ 0.0000,  0.0000,  0.0000,  0.0000],\n",
              "          [ 0.0000,  0.0000,  0.0000,  0.0000],\n",
              "          [ 0.0000,  0.0000,  0.0000,  0.0000]]],\n",
              "\n",
              "\n",
              "        [[[ 0.0000,  0.0000,  0.0000,  0.0000],\n",
              "          [ 0.0000,  0.0000,  0.0000,  0.0000],\n",
              "          [ 0.0000,  0.0000,  0.0000,  0.0000],\n",
              "          [ 0.0000,  0.0000,  0.0000,  0.0000],\n",
              "          [ 0.0000,  0.0000,  0.0000,  0.0000]],\n",
              "\n",
              "         [[ 0.0000,  0.0000,  0.0000,  0.0000],\n",
              "          [ 0.0000,  0.0000,  0.0000,  0.0000],\n",
              "          [ 0.5066,  0.3076, -0.5122, -0.4644],\n",
              "          [ 0.0000,  0.0000,  0.0000,  0.0000],\n",
              "          [ 0.5016,  0.3079, -0.5118, -0.4632]],\n",
              "\n",
              "         [[ 0.3924,  0.5164, -0.4191, -0.4785],\n",
              "          [ 0.0000,  0.0000,  0.0000,  0.0000],\n",
              "          [ 0.0000,  0.0000,  0.0000,  0.0000],\n",
              "          [ 0.3925,  0.5165, -0.4190, -0.4785],\n",
              "          [ 0.0000,  0.0000,  0.0000,  0.0000]],\n",
              "\n",
              "         [[ 0.0000,  0.0000,  0.0000,  0.0000],\n",
              "          [ 0.1400,  0.2753, -0.4655, -0.3530],\n",
              "          [ 0.1397,  0.2759, -0.4626, -0.3520],\n",
              "          [ 0.0000,  0.0000,  0.0000,  0.0000],\n",
              "          [ 0.1394,  0.2754, -0.4658, -0.3530]],\n",
              "\n",
              "         [[ 0.3048,  0.3886, -0.6223, -0.4897],\n",
              "          [ 0.0000,  0.0000,  0.0000,  0.0000],\n",
              "          [ 0.0000,  0.0000,  0.0000,  0.0000],\n",
              "          [ 0.0000,  0.0000,  0.0000,  0.0000],\n",
              "          [ 0.0000,  0.0000,  0.0000,  0.0000]]]],\n",
              "       grad_fn=<UnsafeViewBackward0>)"
            ]
          },
          "metadata": {},
          "execution_count": 90
        }
      ]
    },
    {
      "cell_type": "code",
      "source": [
        "e_result_sparse.values().shape"
      ],
      "metadata": {
        "colab": {
          "base_uri": "https://localhost:8080/"
        },
        "id": "f_umVj1E10fH",
        "outputId": "8df44319-6168-4ae2-9877-c45e8ce7c8ab"
      },
      "execution_count": null,
      "outputs": [
        {
          "output_type": "execute_result",
          "data": {
            "text/plain": [
              "torch.Size([8, 2, 4])"
            ]
          },
          "metadata": {},
          "execution_count": 91
        }
      ]
    },
    {
      "cell_type": "code",
      "source": [
        "e_result_dense.shape"
      ],
      "metadata": {
        "colab": {
          "base_uri": "https://localhost:8080/"
        },
        "id": "ivVureUY8gvM",
        "outputId": "87d6186a-676e-446b-df65-600429f910f6"
      },
      "execution_count": null,
      "outputs": [
        {
          "output_type": "execute_result",
          "data": {
            "text/plain": [
              "torch.Size([2, 5, 5, 4])"
            ]
          },
          "metadata": {},
          "execution_count": 92
        }
      ]
    },
    {
      "cell_type": "markdown",
      "source": [
        "## nodes <-"
      ],
      "metadata": {
        "id": "sJgnuKl99y6K"
      }
    },
    {
      "cell_type": "markdown",
      "source": [],
      "metadata": {
        "id": "0HzdHiK7UyGg"
      }
    },
    {
      "cell_type": "code",
      "source": [
        "we_result_sparse = W_er(e_result_sparse.values().view(-1, eh_heads*e_dim))"
      ],
      "metadata": {
        "id": "vSvkleuYzb9Y"
      },
      "execution_count": null,
      "outputs": []
    },
    {
      "cell_type": "code",
      "source": [
        "we_result_sparse.shape"
      ],
      "metadata": {
        "colab": {
          "base_uri": "https://localhost:8080/"
        },
        "id": "ehK0_fBgzcAD",
        "outputId": "c7194ba3-6ae9-4557-a422-368a59345387"
      },
      "execution_count": null,
      "outputs": [
        {
          "output_type": "execute_result",
          "data": {
            "text/plain": [
              "torch.Size([8, 3])"
            ]
          },
          "metadata": {},
          "execution_count": 94
        }
      ]
    },
    {
      "cell_type": "code",
      "source": [
        "edges"
      ],
      "metadata": {
        "colab": {
          "base_uri": "https://localhost:8080/"
        },
        "id": "MM7Tarr98zVE",
        "outputId": "e7ce5e0c-3f55-4646-9647-f2a4ecdd3a8b"
      },
      "execution_count": null,
      "outputs": [
        {
          "output_type": "execute_result",
          "data": {
            "text/plain": [
              "tensor([[1, 1, 2, 2, 3, 3, 3, 4],\n",
              "        [2, 4, 0, 3, 1, 2, 4, 0]])"
            ]
          },
          "metadata": {},
          "execution_count": 95
        }
      ]
    },
    {
      "cell_type": "code",
      "source": [
        "we_result_dense = W_er(e_result_dense.permute((1, 2, 0, 3)).reshape(n_nodes, n_nodes, eh_heads*e_dim))\n",
        "we_result_dense.shape"
      ],
      "metadata": {
        "colab": {
          "base_uri": "https://localhost:8080/"
        },
        "id": "ehFs-ljg197t",
        "outputId": "34569e92-5a33-4769-b07c-cedb76afc717"
      },
      "execution_count": null,
      "outputs": [
        {
          "output_type": "execute_result",
          "data": {
            "text/plain": [
              "torch.Size([5, 5, 3])"
            ]
          },
          "metadata": {},
          "execution_count": 96
        }
      ]
    },
    {
      "cell_type": "code",
      "source": [
        "we_result_dense = (we_result_dense.permute((2, 0, 1)) * mask)"
      ],
      "metadata": {
        "id": "jPWwSjPMBRK6"
      },
      "execution_count": null,
      "outputs": []
    },
    {
      "cell_type": "code",
      "source": [
        "we_result_dense"
      ],
      "metadata": {
        "colab": {
          "base_uri": "https://localhost:8080/"
        },
        "id": "Akvw_ufLBPWR",
        "outputId": "aefcca39-5eb7-4dec-8b1d-5f6e6b9373c5"
      },
      "execution_count": null,
      "outputs": [
        {
          "output_type": "execute_result",
          "data": {
            "text/plain": [
              "tensor([[[-0.0000e+00, -0.0000e+00, -0.0000e+00, -0.0000e+00, -0.0000e+00],\n",
              "         [-0.0000e+00, -0.0000e+00, -1.1768e-01, -0.0000e+00, -1.1724e-01],\n",
              "         [ 6.4597e-06, -0.0000e+00, -0.0000e+00, -1.4298e-05, -0.0000e+00],\n",
              "         [-0.0000e+00,  4.4529e-03,  4.6122e-03, -0.0000e+00,  4.0285e-03],\n",
              "         [ 3.5280e-02, -0.0000e+00, -0.0000e+00, -0.0000e+00, -0.0000e+00]],\n",
              "\n",
              "        [[-0.0000e+00, -0.0000e+00, -0.0000e+00, -0.0000e+00, -0.0000e+00],\n",
              "         [-0.0000e+00, -0.0000e+00, -3.0065e-01, -0.0000e+00, -2.9955e-01],\n",
              "         [-2.1691e-01, -0.0000e+00, -0.0000e+00, -2.1691e-01, -0.0000e+00],\n",
              "         [-0.0000e+00, -2.0847e-01, -2.0714e-01, -0.0000e+00, -2.1022e-01],\n",
              "         [-2.0434e-01, -0.0000e+00, -0.0000e+00, -0.0000e+00, -0.0000e+00]],\n",
              "\n",
              "        [[-0.0000e+00, -0.0000e+00, -0.0000e+00, -0.0000e+00, -0.0000e+00],\n",
              "         [-0.0000e+00, -0.0000e+00, -4.0412e-01, -0.0000e+00, -4.0503e-01],\n",
              "         [-2.9759e-01, -0.0000e+00, -0.0000e+00, -2.9754e-01, -0.0000e+00],\n",
              "         [-0.0000e+00, -5.0721e-01, -5.0680e-01, -0.0000e+00, -5.0823e-01],\n",
              "         [-3.5431e-01, -0.0000e+00, -0.0000e+00, -0.0000e+00, -0.0000e+00]]],\n",
              "       grad_fn=<MulBackward0>)"
            ]
          },
          "metadata": {},
          "execution_count": 98
        }
      ]
    },
    {
      "cell_type": "code",
      "source": [
        "we_result_dense.shape"
      ],
      "metadata": {
        "colab": {
          "base_uri": "https://localhost:8080/"
        },
        "id": "HvQTKpSgGlwE",
        "outputId": "0a780e39-85ca-403a-8399-b883d30727b4"
      },
      "execution_count": null,
      "outputs": [
        {
          "output_type": "execute_result",
          "data": {
            "text/plain": [
              "torch.Size([3, 5, 5])"
            ]
          },
          "metadata": {},
          "execution_count": 99
        }
      ]
    },
    {
      "cell_type": "code",
      "source": [
        "we_result_sparse"
      ],
      "metadata": {
        "colab": {
          "base_uri": "https://localhost:8080/"
        },
        "id": "TgMTTimJ19_O",
        "outputId": "27c4d02b-e009-40b1-8b4c-f5c85634fd13"
      },
      "execution_count": null,
      "outputs": [
        {
          "output_type": "execute_result",
          "data": {
            "text/plain": [
              "tensor([[-1.1768e-01, -3.0065e-01, -4.0412e-01],\n",
              "        [-1.1724e-01, -2.9955e-01, -4.0503e-01],\n",
              "        [ 6.4671e-06, -2.1691e-01, -2.9759e-01],\n",
              "        [-1.4275e-05, -2.1691e-01, -2.9754e-01],\n",
              "        [ 4.4528e-03, -2.0847e-01, -5.0721e-01],\n",
              "        [ 4.6122e-03, -2.0714e-01, -5.0680e-01],\n",
              "        [ 4.0285e-03, -2.1022e-01, -5.0823e-01],\n",
              "        [ 3.5280e-02, -2.0434e-01, -3.5431e-01]], grad_fn=<AddmmBackward0>)"
            ]
          },
          "metadata": {},
          "execution_count": 100
        }
      ]
    },
    {
      "cell_type": "code",
      "source": [
        "we_result_dense[we_result_dense==0] = float(\"-inf\")\n",
        "we_result_dense = torch.nn.functional.softmax(we_result_dense, dim=-1).nan_to_num(0)\n",
        "we_result_dense"
      ],
      "metadata": {
        "colab": {
          "base_uri": "https://localhost:8080/"
        },
        "id": "sVhA0ftBOM3t",
        "outputId": "41fcf2d4-f9a6-4f65-b1a6-140c3691a57c"
      },
      "execution_count": null,
      "outputs": [
        {
          "output_type": "execute_result",
          "data": {
            "text/plain": [
              "tensor([[[0.0000, 0.0000, 0.0000, 0.0000, 0.0000],\n",
              "         [0.0000, 0.0000, 0.4999, 0.0000, 0.5001],\n",
              "         [0.5000, 0.0000, 0.0000, 0.5000, 0.0000],\n",
              "         [0.0000, 0.3334, 0.3334, 0.0000, 0.3332],\n",
              "         [1.0000, 0.0000, 0.0000, 0.0000, 0.0000]],\n",
              "\n",
              "        [[0.0000, 0.0000, 0.0000, 0.0000, 0.0000],\n",
              "         [0.0000, 0.0000, 0.4997, 0.0000, 0.5003],\n",
              "         [0.5000, 0.0000, 0.0000, 0.5000, 0.0000],\n",
              "         [0.0000, 0.3334, 0.3338, 0.0000, 0.3328],\n",
              "         [1.0000, 0.0000, 0.0000, 0.0000, 0.0000]],\n",
              "\n",
              "        [[0.0000, 0.0000, 0.0000, 0.0000, 0.0000],\n",
              "         [0.0000, 0.0000, 0.5002, 0.0000, 0.4998],\n",
              "         [0.5000, 0.0000, 0.0000, 0.5000, 0.0000],\n",
              "         [0.0000, 0.3334, 0.3335, 0.0000, 0.3331],\n",
              "         [1.0000, 0.0000, 0.0000, 0.0000, 0.0000]]],\n",
              "       grad_fn=<NanToNumBackward0>)"
            ]
          },
          "metadata": {},
          "execution_count": 101
        }
      ]
    },
    {
      "cell_type": "code",
      "source": [
        "we_result_sparse.shape"
      ],
      "metadata": {
        "colab": {
          "base_uri": "https://localhost:8080/"
        },
        "id": "7anGJzbSOzs1",
        "outputId": "0e38ba82-c07a-4826-f489-1f30479fd4e5"
      },
      "execution_count": null,
      "outputs": [
        {
          "output_type": "execute_result",
          "data": {
            "text/plain": [
              "torch.Size([8, 3])"
            ]
          },
          "metadata": {},
          "execution_count": 102
        }
      ]
    },
    {
      "cell_type": "code",
      "source": [
        "(we_result_sparse.unsqueeze(-1) * nv.transpose(0, 1)[edges[1], :, :]).shape"
      ],
      "metadata": {
        "colab": {
          "base_uri": "https://localhost:8080/"
        },
        "id": "XFc768GFPM6B",
        "outputId": "60ff89af-d089-41c7-b0df-efd236174673"
      },
      "execution_count": null,
      "outputs": [
        {
          "output_type": "execute_result",
          "data": {
            "text/plain": [
              "torch.Size([8, 3, 4])"
            ]
          },
          "metadata": {},
          "execution_count": 103
        }
      ]
    },
    {
      "cell_type": "code",
      "source": [
        "we_result_sparse = W_er(e_result_sparse.view(-1, eh_heads*e_dim))"
      ],
      "metadata": {
        "id": "GprOs_w9NZZ8"
      },
      "execution_count": null,
      "outputs": []
    },
    {
      "cell_type": "code",
      "source": [
        "we_result_sparse = softmax(\n",
        "    src=we_result_sparse,\n",
        "    index=edges[0],\n",
        "    num_nodes=n_nodes,\n",
        ")"
      ],
      "metadata": {
        "id": "ADLXEgAwOM6o"
      },
      "execution_count": null,
      "outputs": []
    },
    {
      "cell_type": "code",
      "source": [
        "result = scatter(we_result_sparse.unsqueeze(-1) * nv.transpose(0, 1)[edges[1], :, :],\n",
        "        edges[0], 0, dim_size=n_nodes, reduce='sum')"
      ],
      "metadata": {
        "id": "IGdqNwzmHurj"
      },
      "execution_count": null,
      "outputs": []
    },
    {
      "cell_type": "code",
      "source": [
        "result"
      ],
      "metadata": {
        "id": "-DF_2SsChbvy",
        "outputId": "553acc1d-02c3-483c-c18d-18237160e1e0",
        "colab": {
          "base_uri": "https://localhost:8080/"
        }
      },
      "execution_count": null,
      "outputs": [
        {
          "output_type": "execute_result",
          "data": {
            "text/plain": [
              "tensor([[[ 0.0000,  0.0000,  0.0000,  0.0000],\n",
              "         [ 0.0000,  0.0000,  0.0000,  0.0000],\n",
              "         [ 0.0000,  0.0000,  0.0000,  0.0000]],\n",
              "\n",
              "        [[ 0.6376,  0.0466,  0.1893,  0.3342],\n",
              "         [-0.2192,  0.3687,  0.1111, -0.0693],\n",
              "         [ 0.0265, -0.7310,  0.0051, -0.0629]],\n",
              "\n",
              "        [[ 0.4427,  0.2908, -0.2045, -0.2398],\n",
              "         [-0.7029,  0.3089, -0.0612, -0.2394],\n",
              "         [ 0.0979, -0.2413, -0.2667,  0.0757]],\n",
              "\n",
              "        [[ 0.4683, -0.1785,  0.4154,  0.3731],\n",
              "         [ 0.1405,  0.2273, -0.1969,  0.0550],\n",
              "         [ 0.0612, -0.5039,  0.1029, -0.1379]],\n",
              "\n",
              "        [[ 0.7721,  0.3507, -0.5177, -0.5645],\n",
              "         [-0.7706,  0.2676,  0.0755, -0.5668],\n",
              "         [ 0.0247, -0.3495, -0.1441,  0.3607]]], grad_fn=<ScatterAddBackward0>)"
            ]
          },
          "metadata": {},
          "execution_count": 180
        }
      ]
    },
    {
      "cell_type": "code",
      "source": [
        "torch.matmul(we_result_dense, nv).transpose(0, 1)"
      ],
      "metadata": {
        "colab": {
          "base_uri": "https://localhost:8080/"
        },
        "id": "sVLMBTkE6HHx",
        "outputId": "639cc306-e483-4338-cac2-8c1d9cc08110"
      },
      "execution_count": null,
      "outputs": [
        {
          "output_type": "execute_result",
          "data": {
            "text/plain": [
              "tensor([[[ 0.0000,  0.0000,  0.0000,  0.0000],\n",
              "         [ 0.0000,  0.0000,  0.0000,  0.0000],\n",
              "         [ 0.0000,  0.0000,  0.0000,  0.0000]],\n",
              "\n",
              "        [[ 0.6376,  0.0466,  0.1893,  0.3342],\n",
              "         [-0.2192,  0.3687,  0.1111, -0.0693],\n",
              "         [ 0.0265, -0.7310,  0.0051, -0.0629]],\n",
              "\n",
              "        [[ 0.4427,  0.2908, -0.2045, -0.2398],\n",
              "         [-0.7029,  0.3089, -0.0612, -0.2394],\n",
              "         [ 0.0979, -0.2413, -0.2667,  0.0757]],\n",
              "\n",
              "        [[ 0.4683, -0.1785,  0.4154,  0.3731],\n",
              "         [ 0.1405,  0.2273, -0.1969,  0.0550],\n",
              "         [ 0.0612, -0.5039,  0.1029, -0.1379]],\n",
              "\n",
              "        [[ 0.7721,  0.3507, -0.5177, -0.5645],\n",
              "         [-0.7706,  0.2676,  0.0755, -0.5668],\n",
              "         [ 0.0247, -0.3495, -0.1441,  0.3607]]], grad_fn=<TransposeBackward0>)"
            ]
          },
          "metadata": {},
          "execution_count": 109
        }
      ]
    },
    {
      "cell_type": "code",
      "source": [],
      "metadata": {
        "id": "EL6zXXMfEo-6"
      },
      "execution_count": null,
      "outputs": []
    },
    {
      "cell_type": "code",
      "source": [
        "! pip install torch_geometric torch_scatter"
      ],
      "metadata": {
        "colab": {
          "base_uri": "https://localhost:8080/"
        },
        "id": "hrPbrkcOEpFy",
        "outputId": "0975a247-41c0-4e5c-9a9e-60333d39711d"
      },
      "execution_count": null,
      "outputs": [
        {
          "output_type": "stream",
          "name": "stdout",
          "text": [
            "Collecting torch_geometric\n",
            "  Downloading torch_geometric-2.4.0-py3-none-any.whl (1.0 MB)\n",
            "\u001b[2K     \u001b[90m━━━━━━━━━━━━━━━━━━━━━━━━━━━━━━━━━━━━━━━━\u001b[0m \u001b[32m1.0/1.0 MB\u001b[0m \u001b[31m4.0 MB/s\u001b[0m eta \u001b[36m0:00:00\u001b[0m\n",
            "\u001b[?25hRequirement already satisfied: tqdm in /usr/local/lib/python3.10/dist-packages (from torch_geometric) (4.66.1)\n",
            "Requirement already satisfied: numpy in /usr/local/lib/python3.10/dist-packages (from torch_geometric) (1.23.5)\n",
            "Requirement already satisfied: scipy in /usr/local/lib/python3.10/dist-packages (from torch_geometric) (1.11.4)\n",
            "Requirement already satisfied: jinja2 in /usr/local/lib/python3.10/dist-packages (from torch_geometric) (3.1.3)\n",
            "Requirement already satisfied: requests in /usr/local/lib/python3.10/dist-packages (from torch_geometric) (2.31.0)\n",
            "Requirement already satisfied: pyparsing in /usr/local/lib/python3.10/dist-packages (from torch_geometric) (3.1.1)\n",
            "Requirement already satisfied: scikit-learn in /usr/local/lib/python3.10/dist-packages (from torch_geometric) (1.2.2)\n",
            "Requirement already satisfied: psutil>=5.8.0 in /usr/local/lib/python3.10/dist-packages (from torch_geometric) (5.9.5)\n",
            "Requirement already satisfied: MarkupSafe>=2.0 in /usr/local/lib/python3.10/dist-packages (from jinja2->torch_geometric) (2.1.4)\n",
            "Requirement already satisfied: charset-normalizer<4,>=2 in /usr/local/lib/python3.10/dist-packages (from requests->torch_geometric) (3.3.2)\n",
            "Requirement already satisfied: idna<4,>=2.5 in /usr/local/lib/python3.10/dist-packages (from requests->torch_geometric) (3.6)\n",
            "Requirement already satisfied: urllib3<3,>=1.21.1 in /usr/local/lib/python3.10/dist-packages (from requests->torch_geometric) (2.0.7)\n",
            "Requirement already satisfied: certifi>=2017.4.17 in /usr/local/lib/python3.10/dist-packages (from requests->torch_geometric) (2023.11.17)\n",
            "Requirement already satisfied: joblib>=1.1.1 in /usr/local/lib/python3.10/dist-packages (from scikit-learn->torch_geometric) (1.3.2)\n",
            "Requirement already satisfied: threadpoolctl>=2.0.0 in /usr/local/lib/python3.10/dist-packages (from scikit-learn->torch_geometric) (3.2.0)\n",
            "Installing collected packages: torch_geometric\n",
            "Successfully installed torch_geometric-2.4.0\n"
          ]
        }
      ]
    },
    {
      "cell_type": "code",
      "source": [
        "pip install pyg_lib torch_scatter torch_sparse torch_cluster torch_spline_conv -f https://data.pyg.org/whl/torch-2.1.0+cpu.html"
      ],
      "metadata": {
        "colab": {
          "base_uri": "https://localhost:8080/"
        },
        "id": "FY6FmmCCEqWp",
        "outputId": "76b6d64c-745d-4cb1-b0c1-b08db9841a78"
      },
      "execution_count": null,
      "outputs": [
        {
          "output_type": "stream",
          "name": "stdout",
          "text": [
            "Looking in links: https://data.pyg.org/whl/torch-2.1.0+cpu.html\n",
            "Collecting pyg_lib\n",
            "  Downloading https://data.pyg.org/whl/torch-2.1.0%2Bcpu/pyg_lib-0.3.1%2Bpt21cpu-cp310-cp310-linux_x86_64.whl (1.2 MB)\n",
            "\u001b[2K     \u001b[90m━━━━━━━━━━━━━━━━━━━━━━━━━━━━━━━━━━━━━━━━\u001b[0m \u001b[32m1.2/1.2 MB\u001b[0m \u001b[31m32.0 MB/s\u001b[0m eta \u001b[36m0:00:00\u001b[0m\n",
            "\u001b[?25hCollecting torch_scatter\n",
            "  Downloading https://data.pyg.org/whl/torch-2.1.0%2Bcpu/torch_scatter-2.1.2%2Bpt21cpu-cp310-cp310-linux_x86_64.whl (497 kB)\n",
            "\u001b[2K     \u001b[90m━━━━━━━━━━━━━━━━━━━━━━━━━━━━━━━━━━━━━━━━\u001b[0m \u001b[32m497.3/497.3 kB\u001b[0m \u001b[31m25.9 MB/s\u001b[0m eta \u001b[36m0:00:00\u001b[0m\n",
            "\u001b[?25hCollecting torch_sparse\n",
            "  Downloading https://data.pyg.org/whl/torch-2.1.0%2Bcpu/torch_sparse-0.6.18%2Bpt21cpu-cp310-cp310-linux_x86_64.whl (1.2 MB)\n",
            "\u001b[2K     \u001b[90m━━━━━━━━━━━━━━━━━━━━━━━━━━━━━━━━━━━━━━━━\u001b[0m \u001b[32m1.2/1.2 MB\u001b[0m \u001b[31m32.0 MB/s\u001b[0m eta \u001b[36m0:00:00\u001b[0m\n",
            "\u001b[?25hCollecting torch_cluster\n",
            "  Downloading https://data.pyg.org/whl/torch-2.1.0%2Bcpu/torch_cluster-1.6.3%2Bpt21cpu-cp310-cp310-linux_x86_64.whl (745 kB)\n",
            "\u001b[2K     \u001b[90m━━━━━━━━━━━━━━━━━━━━━━━━━━━━━━━━━━━━━━━━\u001b[0m \u001b[32m745.7/745.7 kB\u001b[0m \u001b[31m42.6 MB/s\u001b[0m eta \u001b[36m0:00:00\u001b[0m\n",
            "\u001b[?25hCollecting torch_spline_conv\n",
            "  Downloading https://data.pyg.org/whl/torch-2.1.0%2Bcpu/torch_spline_conv-1.2.2%2Bpt21cpu-cp310-cp310-linux_x86_64.whl (208 kB)\n",
            "\u001b[2K     \u001b[90m━━━━━━━━━━━━━━━━━━━━━━━━━━━━━━━━━━━━━━━━\u001b[0m \u001b[32m208.5/208.5 kB\u001b[0m \u001b[31m19.2 MB/s\u001b[0m eta \u001b[36m0:00:00\u001b[0m\n",
            "\u001b[?25hRequirement already satisfied: scipy in /usr/local/lib/python3.10/dist-packages (from torch_sparse) (1.11.4)\n",
            "Requirement already satisfied: numpy<1.28.0,>=1.21.6 in /usr/local/lib/python3.10/dist-packages (from scipy->torch_sparse) (1.23.5)\n",
            "Installing collected packages: torch_spline_conv, torch_scatter, pyg_lib, torch_sparse, torch_cluster\n",
            "Successfully installed pyg_lib-0.3.1+pt21cpu torch_cluster-1.6.3+pt21cpu torch_scatter-2.1.2+pt21cpu torch_sparse-0.6.18+pt21cpu torch_spline_conv-1.2.2+pt21cpu\n"
          ]
        }
      ]
    },
    {
      "cell_type": "code",
      "source": [
        "from torch_geometric.utils import scatter\n"
      ],
      "metadata": {
        "id": "UVR8a-N7EuAU"
      },
      "execution_count": null,
      "outputs": []
    },
    {
      "cell_type": "code",
      "source": [],
      "metadata": {
        "id": "YcpAJLlEE2Jz"
      },
      "execution_count": null,
      "outputs": []
    },
    {
      "cell_type": "code",
      "source": [],
      "metadata": {
        "id": "RjfQGreXFg0Q"
      },
      "execution_count": null,
      "outputs": []
    }
  ]
}