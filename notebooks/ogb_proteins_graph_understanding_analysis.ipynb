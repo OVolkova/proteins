{
  "nbformat": 4,
  "nbformat_minor": 0,
  "metadata": {
    "colab": {
      "provenance": [],
      "machine_shape": "hm"
    },
    "kernelspec": {
      "name": "python3",
      "display_name": "Python 3"
    },
    "language_info": {
      "name": "python"
    }
  },
  "cells": [
    {
      "cell_type": "code",
      "execution_count": null,
      "metadata": {
        "colab": {
          "base_uri": "https://localhost:8080/"
        },
        "id": "3ZaKurXVDANe",
        "outputId": "30ee513e-fddd-4abe-d0d5-720a66275406"
      },
      "outputs": [
        {
          "output_type": "stream",
          "name": "stdout",
          "text": [
            "Collecting ogb\n",
            "  Downloading ogb-1.3.6-py3-none-any.whl (78 kB)\n",
            "\u001b[?25l     \u001b[90m━━━━━━━━━━━━━━━━━━━━━━━━━━━━━━━━━━━━━━━━\u001b[0m \u001b[32m0.0/78.8 kB\u001b[0m \u001b[31m?\u001b[0m eta \u001b[36m-:--:--\u001b[0m\r\u001b[2K     \u001b[91m━━━━━━━━━━━━━━━━━━━━━━━━━━━━━━━━━━━━\u001b[0m\u001b[90m╺\u001b[0m\u001b[90m━━━\u001b[0m \u001b[32m71.7/78.8 kB\u001b[0m \u001b[31m2.1 MB/s\u001b[0m eta \u001b[36m0:00:01\u001b[0m\r\u001b[2K     \u001b[90m━━━━━━━━━━━━━━━━━━━━━━━━━━━━━━━━━━━━━━━━\u001b[0m \u001b[32m78.8/78.8 kB\u001b[0m \u001b[31m1.5 MB/s\u001b[0m eta \u001b[36m0:00:00\u001b[0m\n",
            "\u001b[?25hRequirement already satisfied: torch>=1.6.0 in /usr/local/lib/python3.10/dist-packages (from ogb) (2.1.0+cu121)\n",
            "Requirement already satisfied: numpy>=1.16.0 in /usr/local/lib/python3.10/dist-packages (from ogb) (1.23.5)\n",
            "Requirement already satisfied: tqdm>=4.29.0 in /usr/local/lib/python3.10/dist-packages (from ogb) (4.66.1)\n",
            "Requirement already satisfied: scikit-learn>=0.20.0 in /usr/local/lib/python3.10/dist-packages (from ogb) (1.2.2)\n",
            "Requirement already satisfied: pandas>=0.24.0 in /usr/local/lib/python3.10/dist-packages (from ogb) (1.5.3)\n",
            "Requirement already satisfied: six>=1.12.0 in /usr/local/lib/python3.10/dist-packages (from ogb) (1.16.0)\n",
            "Requirement already satisfied: urllib3>=1.24.0 in /usr/local/lib/python3.10/dist-packages (from ogb) (2.0.7)\n",
            "Collecting outdated>=0.2.0 (from ogb)\n",
            "  Downloading outdated-0.2.2-py2.py3-none-any.whl (7.5 kB)\n",
            "Requirement already satisfied: setuptools>=44 in /usr/local/lib/python3.10/dist-packages (from outdated>=0.2.0->ogb) (67.7.2)\n",
            "Collecting littleutils (from outdated>=0.2.0->ogb)\n",
            "  Downloading littleutils-0.2.2.tar.gz (6.6 kB)\n",
            "  Preparing metadata (setup.py) ... \u001b[?25l\u001b[?25hdone\n",
            "Requirement already satisfied: requests in /usr/local/lib/python3.10/dist-packages (from outdated>=0.2.0->ogb) (2.31.0)\n",
            "Requirement already satisfied: python-dateutil>=2.8.1 in /usr/local/lib/python3.10/dist-packages (from pandas>=0.24.0->ogb) (2.8.2)\n",
            "Requirement already satisfied: pytz>=2020.1 in /usr/local/lib/python3.10/dist-packages (from pandas>=0.24.0->ogb) (2023.3.post1)\n",
            "Requirement already satisfied: scipy>=1.3.2 in /usr/local/lib/python3.10/dist-packages (from scikit-learn>=0.20.0->ogb) (1.11.4)\n",
            "Requirement already satisfied: joblib>=1.1.1 in /usr/local/lib/python3.10/dist-packages (from scikit-learn>=0.20.0->ogb) (1.3.2)\n",
            "Requirement already satisfied: threadpoolctl>=2.0.0 in /usr/local/lib/python3.10/dist-packages (from scikit-learn>=0.20.0->ogb) (3.2.0)\n",
            "Requirement already satisfied: filelock in /usr/local/lib/python3.10/dist-packages (from torch>=1.6.0->ogb) (3.13.1)\n",
            "Requirement already satisfied: typing-extensions in /usr/local/lib/python3.10/dist-packages (from torch>=1.6.0->ogb) (4.5.0)\n",
            "Requirement already satisfied: sympy in /usr/local/lib/python3.10/dist-packages (from torch>=1.6.0->ogb) (1.12)\n",
            "Requirement already satisfied: networkx in /usr/local/lib/python3.10/dist-packages (from torch>=1.6.0->ogb) (3.2.1)\n",
            "Requirement already satisfied: jinja2 in /usr/local/lib/python3.10/dist-packages (from torch>=1.6.0->ogb) (3.1.2)\n",
            "Requirement already satisfied: fsspec in /usr/local/lib/python3.10/dist-packages (from torch>=1.6.0->ogb) (2023.6.0)\n",
            "Requirement already satisfied: triton==2.1.0 in /usr/local/lib/python3.10/dist-packages (from torch>=1.6.0->ogb) (2.1.0)\n",
            "Requirement already satisfied: MarkupSafe>=2.0 in /usr/local/lib/python3.10/dist-packages (from jinja2->torch>=1.6.0->ogb) (2.1.3)\n",
            "Requirement already satisfied: charset-normalizer<4,>=2 in /usr/local/lib/python3.10/dist-packages (from requests->outdated>=0.2.0->ogb) (3.3.2)\n",
            "Requirement already satisfied: idna<4,>=2.5 in /usr/local/lib/python3.10/dist-packages (from requests->outdated>=0.2.0->ogb) (3.6)\n",
            "Requirement already satisfied: certifi>=2017.4.17 in /usr/local/lib/python3.10/dist-packages (from requests->outdated>=0.2.0->ogb) (2023.11.17)\n",
            "Requirement already satisfied: mpmath>=0.19 in /usr/local/lib/python3.10/dist-packages (from sympy->torch>=1.6.0->ogb) (1.3.0)\n",
            "Building wheels for collected packages: littleutils\n",
            "  Building wheel for littleutils (setup.py) ... \u001b[?25l\u001b[?25hdone\n",
            "  Created wheel for littleutils: filename=littleutils-0.2.2-py3-none-any.whl size=7026 sha256=7cd28e571aa35453957769bf161a9ad8715c59435b04c45574e72204e11917c9\n",
            "  Stored in directory: /root/.cache/pip/wheels/3d/fe/b0/27a9892da57472e538c7452a721a9cf463cc03cf7379889266\n",
            "Successfully built littleutils\n",
            "Installing collected packages: littleutils, outdated, ogb\n",
            "Successfully installed littleutils-0.2.2 ogb-1.3.6 outdated-0.2.2\n"
          ]
        }
      ],
      "source": [
        "!pip install ogb"
      ]
    },
    {
      "cell_type": "markdown",
      "source": [
        "# Dataset Overview: ogbn-proteins\n",
        "Hu, Weihua, et al. \"Open Graph Benchmark: Datasets for Machine Learning on Graphs.\" arXiv preprint arXiv:2005.00687 (2020).\n",
        "\n",
        "The ogbn-proteins dataset is an undirected, weighted, and typed (according to species) graph.\n",
        "- Nodes represent proteins, and edges indicate different types of biologically meaningful associations between proteins, e.g., physical interactions, co-expression or homology (Szklarczyk et al., 2019; Consortium, 2018). All edges come with 8-dimensional features, where each dimension represents the approximate confidence of a single association type and takes on values between 0 and 1 (the larger the value is, the more confident we are about the association). The proteins come from 8 species.\n",
        "- Prediction task. The task is to predict the presence of protein functions in a multi-label binary classification setup, where there are 112 kinds of labels to predict in total. The performance is measured by the average of ROC-AUC scores across the 112 tasks.\n",
        "- Dataset splitting. OGB splits the protein nodes into training/validation/test sets according to the species which the proteins come from.\n",
        "\n",
        "\n"
      ],
      "metadata": {
        "id": "DQvhyjh8nDaZ"
      }
    },
    {
      "cell_type": "markdown",
      "source": [
        "# Load dataset"
      ],
      "metadata": {
        "id": "AZC_8MJvm4_8"
      }
    },
    {
      "cell_type": "code",
      "source": [
        "import tqdm\n",
        "from collections import Counter\n",
        "import numpy as np\n",
        "from matplotlib import pyplot as plt"
      ],
      "metadata": {
        "id": "Tuep3wu8p0B1"
      },
      "execution_count": null,
      "outputs": []
    },
    {
      "cell_type": "code",
      "source": [
        "from ogb.nodeproppred import NodePropPredDataset\n",
        "dataset = NodePropPredDataset(name = 'ogbn-proteins')"
      ],
      "metadata": {
        "colab": {
          "base_uri": "https://localhost:8080/"
        },
        "id": "RCWnIzDRDFzD",
        "outputId": "be70e877-3726-4be8-e4d7-d89e7a88af3a"
      },
      "execution_count": null,
      "outputs": [
        {
          "output_type": "stream",
          "name": "stdout",
          "text": [
            "Downloading http://snap.stanford.edu/ogb/data/nodeproppred/proteins.zip\n"
          ]
        },
        {
          "output_type": "stream",
          "name": "stderr",
          "text": [
            "Downloaded 0.21 GB: 100%|██████████| 216/216 [00:08<00:00, 24.68it/s]\n"
          ]
        },
        {
          "output_type": "stream",
          "name": "stdout",
          "text": [
            "Extracting dataset/proteins.zip\n",
            "Loading necessary files...\n",
            "This might take a while.\n",
            "Processing graphs...\n"
          ]
        },
        {
          "output_type": "stream",
          "name": "stderr",
          "text": [
            "100%|██████████| 1/1 [00:02<00:00,  2.70s/it]\n"
          ]
        },
        {
          "output_type": "stream",
          "name": "stdout",
          "text": [
            "Saving...\n"
          ]
        }
      ]
    },
    {
      "cell_type": "code",
      "source": [
        "split_idx = dataset.get_idx_split()\n",
        "train_idx, valid_idx, test_idx = split_idx[\"train\"], split_idx[\"valid\"], split_idx[\"test\"]\n",
        "graph, label = dataset[0]"
      ],
      "metadata": {
        "id": "q7F4HMlMDp6G"
      },
      "execution_count": null,
      "outputs": []
    },
    {
      "cell_type": "code",
      "source": [
        "graph.keys()"
      ],
      "metadata": {
        "colab": {
          "base_uri": "https://localhost:8080/"
        },
        "id": "01wUC4XqCODd",
        "outputId": "5e594898-a106-408f-d0f8-e12ba897c1ce"
      },
      "execution_count": null,
      "outputs": [
        {
          "output_type": "execute_result",
          "data": {
            "text/plain": [
              "dict_keys(['edge_index', 'edge_feat', 'node_feat', 'node_species', 'num_nodes'])"
            ]
          },
          "metadata": {},
          "execution_count": 5
        }
      ]
    },
    {
      "cell_type": "markdown",
      "source": [
        "0. There are 132534 nodes"
      ],
      "metadata": {
        "id": "t4OunU1IqtAI"
      }
    },
    {
      "cell_type": "code",
      "source": [
        "graph['num_nodes']"
      ],
      "metadata": {
        "colab": {
          "base_uri": "https://localhost:8080/"
        },
        "id": "Qw2js8fiquou",
        "outputId": "984ae475-b571-4261-c93d-bf84c334e8e1"
      },
      "execution_count": null,
      "outputs": [
        {
          "output_type": "execute_result",
          "data": {
            "text/plain": [
              "132534"
            ]
          },
          "metadata": {},
          "execution_count": 6
        }
      ]
    },
    {
      "cell_type": "markdown",
      "source": [
        "1. There are not features for nodes"
      ],
      "metadata": {
        "id": "KLgGp48tpGSX"
      }
    },
    {
      "cell_type": "code",
      "source": [
        "graph['node_feat']"
      ],
      "metadata": {
        "id": "M8czDiu7vYT5"
      },
      "execution_count": null,
      "outputs": []
    },
    {
      "cell_type": "markdown",
      "source": [
        "2. Dataset is split by species: 6 species in Train, 1 in Validation and 1 in Test"
      ],
      "metadata": {
        "id": "LGXZLE3dpMu2"
      }
    },
    {
      "cell_type": "code",
      "source": [
        "Counter(graph['node_species'].T[0].tolist())"
      ],
      "metadata": {
        "colab": {
          "base_uri": "https://localhost:8080/"
        },
        "id": "eapfMp-RrqtW",
        "outputId": "718d8049-666d-46a6-f89e-d4b5224ef5c2"
      },
      "execution_count": null,
      "outputs": [
        {
          "output_type": "execute_result",
          "data": {
            "text/plain": [
              "Counter({3702: 25449,\n",
              "         4932: 6568,\n",
              "         6239: 18108,\n",
              "         7227: 13015,\n",
              "         9606: 19354,\n",
              "         511145: 4125,\n",
              "         10090: 21236,\n",
              "         7955: 24679})"
            ]
          },
          "metadata": {},
          "execution_count": 8
        }
      ]
    },
    {
      "cell_type": "code",
      "source": [
        "np.unique(graph['node_species'][train_idx])"
      ],
      "metadata": {
        "colab": {
          "base_uri": "https://localhost:8080/"
        },
        "id": "AxOOr3e8VfjE",
        "outputId": "21c8e9f9-2d1c-4b1b-e161-9af6fce30149"
      },
      "execution_count": null,
      "outputs": [
        {
          "output_type": "execute_result",
          "data": {
            "text/plain": [
              "array([  3702,   4932,   6239,   7227,   9606, 511145])"
            ]
          },
          "metadata": {},
          "execution_count": 9
        }
      ]
    },
    {
      "cell_type": "code",
      "source": [
        "np.unique(graph['node_species'][valid_idx])"
      ],
      "metadata": {
        "colab": {
          "base_uri": "https://localhost:8080/"
        },
        "id": "0S3-4WLtVflm",
        "outputId": "f41b1710-fff2-48a5-82be-1eb0b1752061"
      },
      "execution_count": null,
      "outputs": [
        {
          "output_type": "execute_result",
          "data": {
            "text/plain": [
              "array([10090])"
            ]
          },
          "metadata": {},
          "execution_count": 10
        }
      ]
    },
    {
      "cell_type": "code",
      "source": [
        "np.unique(graph['node_species'][test_idx])"
      ],
      "metadata": {
        "colab": {
          "base_uri": "https://localhost:8080/"
        },
        "id": "Im0DTuqWWGgf",
        "outputId": "87fd0c79-cb01-412e-ebad-20eff8b37e9c"
      },
      "execution_count": null,
      "outputs": [
        {
          "output_type": "execute_result",
          "data": {
            "text/plain": [
              "array([7955])"
            ]
          },
          "metadata": {},
          "execution_count": 11
        }
      ]
    },
    {
      "cell_type": "markdown",
      "source": [
        "3. There are 112 labels, and they (funny) are ordered by the number of nodes that have this label.\n",
        "It is an unbalanced dataset.\n",
        "There are more 0-labeled nodes in the test than in validation and train."
      ],
      "metadata": {
        "id": "e4fMODKIp782"
      }
    },
    {
      "cell_type": "code",
      "source": [
        "label.shape"
      ],
      "metadata": {
        "colab": {
          "base_uri": "https://localhost:8080/"
        },
        "id": "qF914J3xCWt6",
        "outputId": "c8e1b318-060d-4fdb-987e-cbba5c60eff0"
      },
      "execution_count": null,
      "outputs": [
        {
          "output_type": "execute_result",
          "data": {
            "text/plain": [
              "(132534, 112)"
            ]
          },
          "metadata": {},
          "execution_count": 12
        }
      ]
    },
    {
      "cell_type": "code",
      "source": [
        "label.sum(0)"
      ],
      "metadata": {
        "colab": {
          "base_uri": "https://localhost:8080/"
        },
        "id": "4DBZ3fvKqHhk",
        "outputId": "ab674dfc-3fd7-4a97-ade2-752521b90892"
      },
      "execution_count": null,
      "outputs": [
        {
          "output_type": "execute_result",
          "data": {
            "text/plain": [
              "array([69859, 59185, 48287, 40512, 38766, 36022, 35651, 33583, 31405,\n",
              "       25716, 25671, 25520, 22519, 21704, 21053, 20867, 20345, 19656,\n",
              "       19665, 19472, 19243, 19416, 19326, 18934, 18692, 18631, 18575,\n",
              "       18520, 18542, 18409, 17603, 17164, 16016, 15469, 15229, 15246,\n",
              "       15239, 14939, 14964, 14692, 14524, 14479, 14213, 14355, 13899,\n",
              "       13794, 13752, 13752, 13708, 13614, 13510, 13452, 13228, 12673,\n",
              "       12587, 12514, 12348, 12262, 12243, 12098, 12006, 11852, 11628,\n",
              "       11551, 11481, 11464, 11096, 11096, 10945, 10838, 10841, 10567,\n",
              "       10509, 10201,  9927,  9620,  9586,  9335,  9205,  9135,  9012,\n",
              "        9003,  8899,  8777,  8729,  8751,  8717,  8668,  8537,  8537,\n",
              "        8462,  8404,  8160,  8040,  7933,  7635,  7591,  7586,  7559,\n",
              "        7528,  7302,  6774,  6659,  6495,  6032,  5330,  5236,  5210,\n",
              "        4215,  3549,  3335,  2713])"
            ]
          },
          "metadata": {},
          "execution_count": 13
        }
      ]
    },
    {
      "cell_type": "code",
      "source": [
        "plt.figure(figsize=(10, 2))\n",
        "plt.hist(label[train_idx].sum(axis=1), bins=50, log=True, alpha=0.5)\n",
        "plt.hist(label[valid_idx].sum(axis=1), bins=50, log=True, alpha=0.5)\n",
        "plt.hist(label[test_idx].sum(axis=1), bins=50, log=True, alpha=0.5)\n",
        "plt.legend(['train', 'validation', 'test'])\n",
        "plt.title('Histogram of labels sums for each node')\n",
        "plt.show()"
      ],
      "metadata": {
        "colab": {
          "base_uri": "https://localhost:8080/",
          "height": 237
        },
        "id": "GgkoHXVdRfqv",
        "outputId": "2b748081-e146-4fe0-86b4-104293d9b0f0"
      },
      "execution_count": null,
      "outputs": [
        {
          "output_type": "display_data",
          "data": {
            "text/plain": [
              "<Figure size 1000x200 with 1 Axes>"
            ],
            "image/png": "[encoded data removed]"
          },
          "metadata": {}
        }
      ]
    },
    {
      "cell_type": "code",
      "source": [
        "counts = Counter(label[train_idx].sum(axis=1))\n",
        "print(counts.most_common(10))\n",
        "del counts"
      ],
      "metadata": {
        "colab": {
          "base_uri": "https://localhost:8080/"
        },
        "id": "u4jDlEZXSZJT",
        "outputId": "52775e1c-f1f0-438c-d8d4-957d4ae0fbd8"
      },
      "execution_count": null,
      "outputs": [
        {
          "output_type": "stream",
          "name": "stdout",
          "text": [
            "[(0, 25220), (1, 3363), (4, 3020), (8, 2422), (3, 2419), (2, 2097), (5, 2018), (10, 1945), (18, 1903), (9, 1789)]\n"
          ]
        }
      ]
    },
    {
      "cell_type": "markdown",
      "source": [
        "4. There are 79122504 edges."
      ],
      "metadata": {
        "id": "AJLv9Io9qeCB"
      }
    },
    {
      "cell_type": "code",
      "source": [
        "graph['edge_index'].shape"
      ],
      "metadata": {
        "colab": {
          "base_uri": "https://localhost:8080/"
        },
        "id": "jNkcGj52qhZn",
        "outputId": "1d47b969-65e9-4667-e16d-f080d4985a28"
      },
      "execution_count": null,
      "outputs": [
        {
          "output_type": "execute_result",
          "data": {
            "text/plain": [
              "(2, 79122504)"
            ]
          },
          "metadata": {},
          "execution_count": 17
        }
      ]
    },
    {
      "cell_type": "code",
      "source": [
        "graph['edge_index'].T"
      ],
      "metadata": {
        "colab": {
          "base_uri": "https://localhost:8080/"
        },
        "id": "OBIqma6WCeXZ",
        "outputId": "b521ef5a-6fa5-4882-9247-d416181d417b"
      },
      "execution_count": null,
      "outputs": [
        {
          "output_type": "execute_result",
          "data": {
            "text/plain": [
              "array([[    1, 96401],\n",
              "       [96401,     1],\n",
              "       [    1, 68343],\n",
              "       ...,\n",
              "       [86562, 86404],\n",
              "       [86562, 86435],\n",
              "       [86435, 86562]])"
            ]
          },
          "metadata": {},
          "execution_count": 18
        }
      ]
    },
    {
      "cell_type": "code",
      "source": [
        "graph['edge_feat'][0:2]"
      ],
      "metadata": {
        "colab": {
          "base_uri": "https://localhost:8080/"
        },
        "id": "ICxP0GKiIIQ8",
        "outputId": "f75248fe-104d-40ad-f344-19944894cbb5"
      },
      "execution_count": null,
      "outputs": [
        {
          "output_type": "execute_result",
          "data": {
            "text/plain": [
              "array([[0.501, 0.001, 0.001, 0.001, 0.001, 0.001, 0.001, 0.001],\n",
              "       [0.501, 0.001, 0.001, 0.001, 0.001, 0.001, 0.001, 0.001]],\n",
              "      dtype=float32)"
            ]
          },
          "metadata": {},
          "execution_count": 19
        }
      ]
    },
    {
      "cell_type": "markdown",
      "source": [
        "I checked in advance, and there is only one connected component in this graph. Which means proteins from different species are connected.\n",
        "\n",
        "This is the goal of this notebook analysis to understand why and how."
      ],
      "metadata": {
        "id": "VoqHJw4jrB8d"
      }
    },
    {
      "cell_type": "markdown",
      "source": [
        "# Check edges features"
      ],
      "metadata": {
        "id": "SqEXdemBRjZM"
      }
    },
    {
      "cell_type": "code",
      "source": [
        "plt.figure(figsize=(10, 2))\n",
        "plt.hist(graph['edge_feat'].sum(axis=1), bins=500, log=True)\n",
        "plt.title('Histogram of edges features sums for each edge')\n",
        "plt.show()"
      ],
      "metadata": {
        "colab": {
          "base_uri": "https://localhost:8080/",
          "height": 237
        },
        "id": "V509gA04RlyJ",
        "outputId": "c429e9dd-e18d-45c3-e38a-e2dfe240f805"
      },
      "execution_count": null,
      "outputs": [
        {
          "output_type": "display_data",
          "data": {
            "text/plain": [
              "<Figure size 1000x200 with 1 Axes>"
            ],
            "image/png": "[encoded data removed]"
          },
          "metadata": {}
        }
      ]
    },
    {
      "cell_type": "code",
      "source": [
        "print('Min sum of edge features', graph['edge_feat'].sum(axis=1).min())\n",
        "print('Max sum of edge features', graph['edge_feat'].sum(axis=1).max())"
      ],
      "metadata": {
        "colab": {
          "base_uri": "https://localhost:8080/"
        },
        "id": "0902l2kaRpsw",
        "outputId": "4e286948-468f-43eb-b111-99ce12fb8b51"
      },
      "execution_count": null,
      "outputs": [
        {
          "output_type": "stream",
          "name": "stdout",
          "text": [
            "Min sum of edge features 0.15799999\n",
            "Max sum of edge features 6.35\n"
          ]
        }
      ]
    },
    {
      "cell_type": "code",
      "source": [
        "plt.figure(figsize=(10, 2))\n",
        "plt.hist(graph['edge_feat'].flatten(), bins=500, log=True)\n",
        "plt.title('Histogram of unique edges features values')\n",
        "plt.show()"
      ],
      "metadata": {
        "colab": {
          "base_uri": "https://localhost:8080/",
          "height": 237
        },
        "id": "HZGKRwmXRpws",
        "outputId": "b19eab78-356b-45fd-96d6-8dda413ef6b8"
      },
      "execution_count": null,
      "outputs": [
        {
          "output_type": "display_data",
          "data": {
            "text/plain": [
              "<Figure size 1000x200 with 1 Axes>"
            ],
            "image/png": "[encoded data removed]"
          },
          "metadata": {}
        }
      ]
    },
    {
      "cell_type": "code",
      "source": [
        "print('Min of edge features', graph['edge_feat'].min())\n",
        "print('Max of edge features', graph['edge_feat'].max())"
      ],
      "metadata": {
        "colab": {
          "base_uri": "https://localhost:8080/"
        },
        "id": "DNe1gLCZRs8q",
        "outputId": "7434ee0d-68f2-4bc4-d9cf-96a553f0146b"
      },
      "execution_count": null,
      "outputs": [
        {
          "output_type": "stream",
          "name": "stdout",
          "text": [
            "Min of edge features 0.001\n",
            "Max of edge features 1.0\n"
          ]
        }
      ]
    },
    {
      "cell_type": "markdown",
      "source": [
        "Most common edge features vectors:\n",
        "\n",
        "- the most popular is (0.501, 0.001, 0.001, 0.001, 0.001, 0.001, 0.001, 0.001). It looks like an anomaly, with 15352844 for it vs 489322 times for the second common connection\n"
      ],
      "metadata": {
        "id": "igok6Q2oTcx1"
      }
    },
    {
      "cell_type": "code",
      "source": [
        "counts = Counter([tuple(ef) for ef in graph['edge_feat']])\n",
        "print(counts.most_common(10))\n",
        "del counts"
      ],
      "metadata": {
        "colab": {
          "base_uri": "https://localhost:8080/"
        },
        "id": "DSQHd96URs_o",
        "outputId": "5e45775c-ef64-4fcf-925c-8fbc2ee97087"
      },
      "execution_count": null,
      "outputs": [
        {
          "output_type": "stream",
          "name": "stdout",
          "text": [
            "[((0.501, 0.001, 0.001, 0.001, 0.001, 0.001, 0.001, 0.001), 15352844), ((0.001, 0.001, 0.001, 0.001, 0.001, 0.001, 0.901, 0.001), 489322), ((0.001, 0.001, 0.001, 0.001, 0.18, 0.001, 0.001, 0.001), 314208), ((0.001, 0.001, 0.001, 0.001, 0.17, 0.001, 0.001, 0.001), 292560), ((0.001, 0.001, 0.001, 0.001, 0.001, 0.172, 0.001, 0.001), 265156), ((0.001, 0.001, 0.001, 0.001, 0.001, 0.001, 0.001, 0.168), 260698), ((0.001, 0.001, 0.001, 0.001, 0.001, 0.17, 0.001, 0.001), 253876), ((0.001, 0.001, 0.001, 0.001, 0.001, 0.157, 0.001, 0.001), 235956), ((0.001, 0.001, 0.001, 0.001, 0.154, 0.001, 0.001, 0.001), 233956), ((0.001, 0.001, 0.001, 0.001, 0.152, 0.001, 0.001, 0.001), 207560)]\n"
          ]
        }
      ]
    },
    {
      "cell_type": "markdown",
      "source": [
        "Most common edge features single values"
      ],
      "metadata": {
        "id": "-rld7i1WTg9D"
      }
    },
    {
      "cell_type": "code",
      "source": [
        "counts = Counter(graph['edge_feat'].flatten())\n",
        "print(counts.most_common(10))\n",
        "del counts"
      ],
      "metadata": {
        "colab": {
          "base_uri": "https://localhost:8080/"
        },
        "id": "vwNoBueiRtCk",
        "outputId": "83645735-747f-4295-dee7-3b3186df1ebb"
      },
      "execution_count": null,
      "outputs": [
        {
          "output_type": "stream",
          "name": "stdout",
          "text": [
            "[(0.001, 502299446), (0.501, 15370878), (0.063, 3324506), (0.062, 2606564), (0.901, 2357812), (0.049, 1424012), (0.064, 1134344), (0.061, 1098934), (0.051, 1080012), (0.043, 1064876)]\n"
          ]
        }
      ]
    },
    {
      "cell_type": "markdown",
      "source": [
        "Most common edge features values in dimension 0 of edge features"
      ],
      "metadata": {
        "id": "3QVu5KgMTo2o"
      }
    },
    {
      "cell_type": "code",
      "source": [
        "counts = Counter(graph['edge_feat'].T[0])\n",
        "print(counts.most_common(10))\n",
        "del counts"
      ],
      "metadata": {
        "colab": {
          "base_uri": "https://localhost:8080/"
        },
        "id": "5boB2OWiR_rR",
        "outputId": "993f68d1-9c98-41b9-dedb-95486eefde97"
      },
      "execution_count": null,
      "outputs": [
        {
          "output_type": "stream",
          "name": "stdout",
          "text": [
            "[(0.001, 63769660), (0.501, 15352844)]\n"
          ]
        }
      ]
    },
    {
      "cell_type": "markdown",
      "source": [
        "There is no 0 value in edge features values"
      ],
      "metadata": {
        "id": "m_EXNljeT19T"
      }
    },
    {
      "cell_type": "code",
      "source": [
        "np.where(graph['edge_feat'].flatten()==0)"
      ],
      "metadata": {
        "colab": {
          "base_uri": "https://localhost:8080/"
        },
        "id": "azh7xiP_SIHz",
        "outputId": "3216b28d-f824-442e-9818-ce82be767c30"
      },
      "execution_count": null,
      "outputs": [
        {
          "output_type": "execute_result",
          "data": {
            "text/plain": [
              "(array([], dtype=int64),)"
            ]
          },
          "metadata": {},
          "execution_count": 27
        }
      ]
    },
    {
      "cell_type": "markdown",
      "source": [
        "# Check how different species are connected\n",
        "\n"
      ],
      "metadata": {
        "id": "OjL6Fod0DG2a"
      }
    },
    {
      "cell_type": "code",
      "source": [
        "def get_adj_dict(edge_index, num_nodes):\n",
        "  \"\"\"\n",
        "  Build adjacency dictionary\n",
        "  \"\"\"\n",
        "  adj_dict = {k: {} for k in range(num_nodes)}\n",
        "  for i, (u, v) in tqdm.tqdm(enumerate(edge_index)):\n",
        "    adj_dict[u][v] = i\n",
        "    adj_dict[v][u] = i\n",
        "\n",
        "  return adj_dict"
      ],
      "metadata": {
        "id": "Cqf0z7efCJIu"
      },
      "execution_count": null,
      "outputs": []
    },
    {
      "cell_type": "code",
      "source": [
        "adj_dict = get_adj_dict(graph['edge_index'].T, graph['num_nodes'])"
      ],
      "metadata": {
        "colab": {
          "base_uri": "https://localhost:8080/"
        },
        "id": "HMFrMNVbFJn4",
        "outputId": "185c34de-2c19-4cf9-ac32-8656a56c1e2a"
      },
      "execution_count": null,
      "outputs": [
        {
          "output_type": "stream",
          "name": "stderr",
          "text": [
            "79122504it [03:09, 418523.89it/s]\n"
          ]
        }
      ]
    },
    {
      "cell_type": "code",
      "source": [
        "# find first node that is connected to node from other species\n",
        "for u, ll in adj_dict.items():\n",
        "  u_s = graph['node_species'][u, 0]\n",
        "  vs_s = [v for v in ll if graph['node_species'][v, 0]!=u_s]\n",
        "  if len(vs_s)> 0:\n",
        "    break"
      ],
      "metadata": {
        "id": "1g1jYqXWGJv8"
      },
      "execution_count": null,
      "outputs": []
    },
    {
      "cell_type": "code",
      "source": [
        "np.unique(graph['edge_feat'][[ll[v] for v in ll if graph['node_species'][v, 0]!=u_s]], axis=0)"
      ],
      "metadata": {
        "colab": {
          "base_uri": "https://localhost:8080/"
        },
        "id": "-vaVqL6wsuK9",
        "outputId": "9d6887ba-69ca-4b2b-d10e-a3c765922fec"
      },
      "execution_count": null,
      "outputs": [
        {
          "output_type": "execute_result",
          "data": {
            "text/plain": [
              "array([[0.501, 0.001, 0.001, 0.001, 0.001, 0.001, 0.001, 0.001]],\n",
              "      dtype=float32)"
            ]
          },
          "metadata": {},
          "execution_count": 38
        }
      ]
    },
    {
      "cell_type": "code",
      "source": [
        "anomaly_features = np.unique(graph['edge_feat'][[ll[v] for v in ll if graph['node_species'][v, 0]!=u_s]], axis=0)[0]"
      ],
      "metadata": {
        "id": "QX2MVTaLVyEN"
      },
      "execution_count": null,
      "outputs": []
    },
    {
      "cell_type": "markdown",
      "source": [
        "Collect information about unique edge features inside and outside species for each node"
      ],
      "metadata": {
        "id": "qaUQ4jLCYegN"
      }
    },
    {
      "cell_type": "code",
      "source": [
        "nodes_info = [[False, 0, False, 0]]*graph['num_nodes']\n",
        "for u, ll in tqdm.tqdm(adj_dict.items()):\n",
        "  u_s = graph['node_species'][u, 0]\n",
        "  vs_in = np.unique(graph['edge_feat'][[ll[v] for v in ll if graph['node_species'][v, 0]==u_s]], axis=0)\n",
        "  vs_out = np.unique(graph['edge_feat'][[ll[v] for v in ll if graph['node_species'][v, 0]!=u_s]], axis=0)\n",
        "  nodes_info[u] = [np.any(np.all(np.isin(vs_in, anomaly_features, True),axis=1)),\n",
        "                   len(vs_in),\n",
        "                   np.any(np.all(np.isin(vs_out, anomaly_features, True),axis=1)),\n",
        "                   len(vs_out)]"
      ],
      "metadata": {
        "colab": {
          "base_uri": "https://localhost:8080/"
        },
        "id": "SEmvp0HgPoK3",
        "outputId": "f1781878-1f55-48a2-a817-8b845b2eb4ea"
      },
      "execution_count": null,
      "outputs": [
        {
          "output_type": "stream",
          "name": "stderr",
          "text": [
            "100%|██████████| 132534/132534 [05:08<00:00, 429.86it/s] \n"
          ]
        }
      ]
    },
    {
      "cell_type": "code",
      "source": [
        "nodes_info[:15]"
      ],
      "metadata": {
        "colab": {
          "base_uri": "https://localhost:8080/"
        },
        "id": "psUjjtQ5QrKS",
        "outputId": "e398477c-1ce5-4879-ffc7-fed9c00fa329"
      },
      "execution_count": null,
      "outputs": [
        {
          "output_type": "execute_result",
          "data": {
            "text/plain": [
              "[[False, 120, False, 0],\n",
              " [False, 230, True, 1],\n",
              " [False, 6, False, 0],\n",
              " [False, 99, False, 0],\n",
              " [False, 300, True, 1],\n",
              " [True, 225, False, 0],\n",
              " [False, 315, True, 1],\n",
              " [False, 246, True, 1],\n",
              " [False, 176, False, 0],\n",
              " [False, 599, True, 1],\n",
              " [False, 61, True, 1],\n",
              " [False, 130, True, 1],\n",
              " [False, 68, False, 0],\n",
              " [False, 128, False, 0],\n",
              " [False, 47, False, 0]]"
            ]
          },
          "metadata": {},
          "execution_count": 49
        }
      ]
    },
    {
      "cell_type": "code",
      "source": [
        "in_has_magic, _ , _ , _ = list(zip(*nodes_info))\n",
        "print('Percent of nodes that has anomaly-edge inside of its species for all nodes:', sum(in_has_magic) / graph['num_nodes'] * 100)\n",
        "print('Number of nodes that has anomaly-edge inside of its species', sum(in_has_magic))"
      ],
      "metadata": {
        "colab": {
          "base_uri": "https://localhost:8080/"
        },
        "id": "RDCxRYOnWv0F",
        "outputId": "c08c9d76-e63c-4885-c188-591ad8a48058"
      },
      "execution_count": null,
      "outputs": [
        {
          "output_type": "stream",
          "name": "stdout",
          "text": [
            "Percent of nodes that has anomaly-edge for all nodes: 1.785956811082439\n",
            "Number of nodes that has anomaly-edge 2367\n"
          ]
        }
      ]
    },
    {
      "cell_type": "code",
      "source": [
        "out_species_nodes_with_anomaly = [out_match for _, _, out_match, len_out_uniques in nodes_info if len_out_uniques > 0]\n",
        "print('Percent of nodes that has anomaly-edge outside of its species for all nodes with outside edges:', sum(out_species_nodes_with_anomaly)/len(out_species_nodes_with_anomaly) * 100)\n",
        "print('Number of nodes that has anomaly-edge outside of its species ', len(out_species_nodes_with_anomaly))"
      ],
      "metadata": {
        "colab": {
          "base_uri": "https://localhost:8080/"
        },
        "id": "Io924nxlSQpn",
        "outputId": "111d115d-7b2b-465c-9f6d-3bb243f17660"
      },
      "execution_count": null,
      "outputs": [
        {
          "output_type": "stream",
          "name": "stdout",
          "text": [
            "Percent of nodes that has anomaly-edge outside of its species for all nodes with outside edges: 100.0\n",
            "Number of nodes that has anomaly-edge outside of its species  105051\n"
          ]
        }
      ]
    },
    {
      "cell_type": "markdown",
      "source": [
        "**Conclusion**: that anomaly edge features are connected that happens inside and outside of species. And this is the only connection that connects different species"
      ],
      "metadata": {
        "id": "6TID-UUfYJOs"
      }
    },
    {
      "cell_type": "code",
      "source": [
        "del adj_dict"
      ],
      "metadata": {
        "id": "zzTkL5tXZJZH"
      },
      "execution_count": null,
      "outputs": []
    },
    {
      "cell_type": "markdown",
      "source": [
        "# Split graph on two subgraphs:\n",
        "1. connections outside of species\n",
        "2. all other connections\n",
        "\n",
        "\n",
        "Additionally, Replace 0.001 edge features value with 0 and remove 0-features-value connections\n"
      ],
      "metadata": {
        "id": "tigQw_OdyT4a"
      }
    },
    {
      "cell_type": "code",
      "source": [
        "edge_feat_0 = graph['edge_feat'].T[0]\n",
        "edge_feat = graph['edge_feat'].T[1:]\n",
        "edge_feat_0.shape, edge_feat.shape"
      ],
      "metadata": {
        "colab": {
          "base_uri": "https://localhost:8080/"
        },
        "id": "3I1pWs_kyTUs",
        "outputId": "00658e26-dade-4d1c-81cc-c0f438e79057"
      },
      "execution_count": null,
      "outputs": [
        {
          "output_type": "execute_result",
          "data": {
            "text/plain": [
              "((79122504,), (7, 79122504))"
            ]
          },
          "metadata": {},
          "execution_count": 54
        }
      ]
    },
    {
      "cell_type": "code",
      "source": [
        "value = edge_feat_0[-1]\n",
        "edge_feat_0=np.where(edge_feat_0==value , 0,edge_feat_0)\n",
        "edge_feat=np.where(edge_feat==value, 0,edge_feat)"
      ],
      "metadata": {
        "id": "ki__3Yp9zL_V"
      },
      "execution_count": null,
      "outputs": []
    },
    {
      "cell_type": "code",
      "source": [
        "edge_feat_is_zero = np.where(edge_feat.sum(axis=0)==0, False, True)\n",
        "edge_feat_0_is_zero = np.where(edge_feat_0==0, False, True)"
      ],
      "metadata": {
        "id": "aWQpCWpFzVhN"
      },
      "execution_count": null,
      "outputs": []
    },
    {
      "cell_type": "code",
      "source": [
        "new_edge_feat = edge_feat[:, edge_feat_is_zero]\n",
        "new_edge_index = graph['edge_index'].T[edge_feat_is_zero].T\n",
        "\n",
        "new_edge_feat_0 = edge_feat_0[edge_feat_0_is_zero]\n",
        "new_edge_index_0 = graph['edge_index'].T[edge_feat_0_is_zero].T"
      ],
      "metadata": {
        "id": "m0bOtexgz-8r"
      },
      "execution_count": null,
      "outputs": []
    },
    {
      "cell_type": "code",
      "source": [
        "new_edge_feat.shape, new_edge_index.shape, new_edge_feat_0.shape, new_edge_index_0.shape"
      ],
      "metadata": {
        "colab": {
          "base_uri": "https://localhost:8080/"
        },
        "id": "YDWZ_UXf0UtA",
        "outputId": "898ed441-14b8-4707-b0fd-084f37fcc94c"
      },
      "execution_count": null,
      "outputs": [
        {
          "output_type": "execute_result",
          "data": {
            "text/plain": [
              "((7, 63769660), (2, 63769660), (15352844,), (2, 15352844))"
            ]
          },
          "metadata": {},
          "execution_count": 58
        }
      ]
    },
    {
      "cell_type": "markdown",
      "source": [
        "## check  number of connected components in each subgraph:"
      ],
      "metadata": {
        "id": "CRv6cuVnZrkS"
      }
    },
    {
      "cell_type": "code",
      "source": [
        "import networkx as nx"
      ],
      "metadata": {
        "id": "yqcxsBU9CnEZ"
      },
      "execution_count": null,
      "outputs": []
    },
    {
      "cell_type": "markdown",
      "source": [
        "Subgraph with inside-species connections:"
      ],
      "metadata": {
        "id": "qrQX_BkdZ0GF"
      }
    },
    {
      "cell_type": "code",
      "source": [
        "G = nx.Graph()\n",
        "G.add_nodes_from(range(0, graph['num_nodes']))\n",
        "G.add_edges_from(new_edge_index.T)\n",
        "cc = nx.connected_components(G)\n",
        "cc = list(cc)"
      ],
      "metadata": {
        "id": "hogaC1D2EJCq"
      },
      "execution_count": null,
      "outputs": []
    },
    {
      "cell_type": "code",
      "source": [
        "len(cc)"
      ],
      "metadata": {
        "colab": {
          "base_uri": "https://localhost:8080/"
        },
        "id": "PSiTe9LBEPoE",
        "outputId": "4a3834c5-1af5-4b79-913a-23fa597bc546"
      },
      "execution_count": null,
      "outputs": [
        {
          "output_type": "execute_result",
          "data": {
            "text/plain": [
              "8"
            ]
          },
          "metadata": {},
          "execution_count": 62
        }
      ]
    },
    {
      "cell_type": "code",
      "source": [
        "[len(c) for c in cc]"
      ],
      "metadata": {
        "id": "ZGSQidSJEWGX",
        "colab": {
          "base_uri": "https://localhost:8080/"
        },
        "outputId": "4896f487-0673-42df-8e43-64220c77b7fa"
      },
      "execution_count": null,
      "outputs": [
        {
          "output_type": "execute_result",
          "data": {
            "text/plain": [
              "[25449, 6568, 18108, 13015, 19354, 4125, 21236, 24679]"
            ]
          },
          "metadata": {},
          "execution_count": 63
        }
      ]
    },
    {
      "cell_type": "markdown",
      "source": [
        "Subgraph with outside-species connections:"
      ],
      "metadata": {
        "id": "K9gFUXmFaC2J"
      }
    },
    {
      "cell_type": "code",
      "source": [
        "G0 = nx.Graph()\n",
        "G0.add_nodes_from(range(0, graph['num_nodes']))\n",
        "G0.add_edges_from(new_edge_index_0.T)\n",
        "cc0 = nx.connected_components(G0)\n",
        "cc0 = list(cc0)"
      ],
      "metadata": {
        "id": "YVBQceXI5Vfz"
      },
      "execution_count": null,
      "outputs": []
    },
    {
      "cell_type": "code",
      "source": [
        "len(cc0)"
      ],
      "metadata": {
        "colab": {
          "base_uri": "https://localhost:8080/"
        },
        "id": "49OJKGEqZF2K",
        "outputId": "88309b53-6221-4a0b-e958-e3f5d1227562"
      },
      "execution_count": null,
      "outputs": [
        {
          "output_type": "execute_result",
          "data": {
            "text/plain": [
              "34582"
            ]
          },
          "metadata": {},
          "execution_count": 65
        }
      ]
    },
    {
      "cell_type": "code",
      "source": [
        "len([len(c) for c in cc0 if len(c)>1])"
      ],
      "metadata": {
        "colab": {
          "base_uri": "https://localhost:8080/"
        },
        "id": "nTTHaEg357EZ",
        "outputId": "0012e043-1b45-4dc4-e924-f2191afc6ad2"
      },
      "execution_count": null,
      "outputs": [
        {
          "output_type": "execute_result",
          "data": {
            "text/plain": [
              "7099"
            ]
          },
          "metadata": {},
          "execution_count": 66
        }
      ]
    },
    {
      "cell_type": "code",
      "source": [
        "[len(c) for c in cc0 if len(c)>1][:10]"
      ],
      "metadata": {
        "colab": {
          "base_uri": "https://localhost:8080/"
        },
        "id": "f2phyvvX54lP",
        "outputId": "fb2d6d78-3678-446b-a2e7-c77151228544"
      },
      "execution_count": null,
      "outputs": [
        {
          "output_type": "execute_result",
          "data": {
            "text/plain": [
              "[48, 7, 38, 194, 24748, 9, 303, 64, 12, 578]"
            ]
          },
          "metadata": {},
          "execution_count": 67
        }
      ]
    },
    {
      "cell_type": "markdown",
      "source": [
        "Indeed, if you remove \"anomaly-features-edges\" that connect nodes from different species, the graph has 8 connected components with the number of nodes in each corresponding to the number of different species in the graph.\n",
        "Outside connections connected different nodes from different species, and no clear pattern is visible yet.\n",
        "\n",
        "Interesting fact is that the edge-feature value used for outside-species connections is 0.501. I assume that it is safe to replace \"default zero\" edge-feature value of 0.001 for outside connections with 0.\n",
        "\n",
        "It is interesting to train models with different set ups of \"default zero\" edge-feature values: like it is provided by ogb and with true 0.\n"
      ],
      "metadata": {
        "id": "Ud3r75lcaSsq"
      }
    },
    {
      "cell_type": "markdown",
      "source": [
        "# Further analysis - to check other edge-features dimensions on connectivity and unique values:"
      ],
      "metadata": {
        "id": "hC2J4UTrbjXX"
      }
    },
    {
      "cell_type": "code",
      "source": [
        "for i in range(1, graph['edge_feat'].shape[1]):\n",
        "  counts = Counter(graph['edge_feat'].T[i])\n",
        "  print(i, counts.most_common(10))\n",
        "  print()\n",
        "del counts"
      ],
      "metadata": {
        "colab": {
          "base_uri": "https://localhost:8080/"
        },
        "id": "Lfm6OUjVcDo5",
        "outputId": "81299260-d96f-4210-d5f8-830de8dcfb4e"
      },
      "execution_count": null,
      "outputs": [
        {
          "output_type": "stream",
          "name": "stdout",
          "text": [
            "1 [(0.001, 74166916), (0.043, 547550), (0.191, 343132), (0.044, 249650), (0.045, 137896), (0.047, 109332), (0.059, 95110), (0.06, 85778), (0.046, 79512), (0.174, 69662)]\n",
            "\n",
            "2 [(0.001, 78985788), (0.002, 27924), (0.003, 12582), (0.005, 7894), (0.004, 7576), (0.006, 4516), (0.008, 3040), (0.007, 2780), (0.009, 2420), (0.01, 1828)]\n",
            "\n",
            "3 [(0.001, 77932218), (0.151, 19560), (0.152, 18746), (0.153, 18236), (0.154, 17596), (0.155, 17212), (0.156, 16684), (0.157, 16198), (0.158, 16110), (0.159, 15494)]\n",
            "\n",
            "4 [(0.001, 41531862), (0.063, 3025312), (0.062, 2279052), (0.064, 855672), (0.061, 768956), (0.049, 756148), (0.065, 601474), (0.056, 550478), (0.054, 513072), (0.05, 487766)]\n",
            "\n",
            "5 [(0.001, 52300246), (0.158, 601396), (0.157, 491216), (0.172, 478090), (0.17, 423436), (0.198, 418396), (0.049, 407084), (0.156, 399030), (0.174, 393252), (0.186, 392558)]\n",
            "\n",
            "6 [(0.001, 76304526), (0.901, 2351112), (0.601, 116716), (0.651, 109128), (0.541, 73086), (0.801, 72296), (0.721, 62282), (0.361, 33358)]\n",
            "\n",
            "7 [(0.001, 37308230), (0.168, 408752), (0.051, 380364), (0.047, 361352), (0.06, 360792), (0.044, 338354), (0.073, 327492), (0.046, 310852), (0.152, 301638), (0.043, 296604)]\n",
            "\n"
          ]
        }
      ]
    }
  ]
}